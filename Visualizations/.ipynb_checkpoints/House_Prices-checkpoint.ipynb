{
 "cells": [
  {
   "cell_type": "code",
   "execution_count": 1,
   "metadata": {},
   "outputs": [],
   "source": [
    "import pandas as pd\n"
   ]
  },
  {
   "cell_type": "code",
   "execution_count": 48,
   "metadata": {},
   "outputs": [
    {
     "data": {
      "text/html": [
       "<div>\n",
       "<style scoped>\n",
       "    .dataframe tbody tr th:only-of-type {\n",
       "        vertical-align: middle;\n",
       "    }\n",
       "\n",
       "    .dataframe tbody tr th {\n",
       "        vertical-align: top;\n",
       "    }\n",
       "\n",
       "    .dataframe thead th {\n",
       "        text-align: right;\n",
       "    }\n",
       "</style>\n",
       "<table border=\"1\" class=\"dataframe\">\n",
       "  <thead>\n",
       "    <tr style=\"text-align: right;\">\n",
       "      <th></th>\n",
       "      <th>Unnamed: 0</th>\n",
       "      <th>Suburb</th>\n",
       "      <th>Address</th>\n",
       "      <th>Rooms</th>\n",
       "      <th>Type</th>\n",
       "      <th>Price</th>\n",
       "      <th>Method</th>\n",
       "      <th>SellerG</th>\n",
       "      <th>Date</th>\n",
       "      <th>Distance</th>\n",
       "      <th>...</th>\n",
       "      <th>Bathroom</th>\n",
       "      <th>Car</th>\n",
       "      <th>Landsize</th>\n",
       "      <th>BuildingArea</th>\n",
       "      <th>YearBuilt</th>\n",
       "      <th>CouncilArea</th>\n",
       "      <th>Lattitude</th>\n",
       "      <th>Longtitude</th>\n",
       "      <th>Regionname</th>\n",
       "      <th>Propertycount</th>\n",
       "    </tr>\n",
       "  </thead>\n",
       "  <tbody>\n",
       "    <tr>\n",
       "      <th>0</th>\n",
       "      <td>1</td>\n",
       "      <td>Abbotsford</td>\n",
       "      <td>85 Turner St</td>\n",
       "      <td>2</td>\n",
       "      <td>h</td>\n",
       "      <td>1480000.0</td>\n",
       "      <td>S</td>\n",
       "      <td>Biggin</td>\n",
       "      <td>3/12/2016</td>\n",
       "      <td>2.5</td>\n",
       "      <td>...</td>\n",
       "      <td>1.0</td>\n",
       "      <td>1.0</td>\n",
       "      <td>202.0</td>\n",
       "      <td>NaN</td>\n",
       "      <td>NaN</td>\n",
       "      <td>Yarra</td>\n",
       "      <td>-37.7996</td>\n",
       "      <td>144.9984</td>\n",
       "      <td>Northern Metropolitan</td>\n",
       "      <td>4019.0</td>\n",
       "    </tr>\n",
       "    <tr>\n",
       "      <th>1</th>\n",
       "      <td>2</td>\n",
       "      <td>Abbotsford</td>\n",
       "      <td>25 Bloomburg St</td>\n",
       "      <td>2</td>\n",
       "      <td>h</td>\n",
       "      <td>1035000.0</td>\n",
       "      <td>S</td>\n",
       "      <td>Biggin</td>\n",
       "      <td>4/02/2016</td>\n",
       "      <td>2.5</td>\n",
       "      <td>...</td>\n",
       "      <td>1.0</td>\n",
       "      <td>0.0</td>\n",
       "      <td>156.0</td>\n",
       "      <td>79.0</td>\n",
       "      <td>1900.0</td>\n",
       "      <td>Yarra</td>\n",
       "      <td>-37.8079</td>\n",
       "      <td>144.9934</td>\n",
       "      <td>Northern Metropolitan</td>\n",
       "      <td>4019.0</td>\n",
       "    </tr>\n",
       "    <tr>\n",
       "      <th>2</th>\n",
       "      <td>4</td>\n",
       "      <td>Abbotsford</td>\n",
       "      <td>5 Charles St</td>\n",
       "      <td>3</td>\n",
       "      <td>h</td>\n",
       "      <td>1465000.0</td>\n",
       "      <td>SP</td>\n",
       "      <td>Biggin</td>\n",
       "      <td>4/03/2017</td>\n",
       "      <td>2.5</td>\n",
       "      <td>...</td>\n",
       "      <td>2.0</td>\n",
       "      <td>0.0</td>\n",
       "      <td>134.0</td>\n",
       "      <td>150.0</td>\n",
       "      <td>1900.0</td>\n",
       "      <td>Yarra</td>\n",
       "      <td>-37.8093</td>\n",
       "      <td>144.9944</td>\n",
       "      <td>Northern Metropolitan</td>\n",
       "      <td>4019.0</td>\n",
       "    </tr>\n",
       "    <tr>\n",
       "      <th>3</th>\n",
       "      <td>5</td>\n",
       "      <td>Abbotsford</td>\n",
       "      <td>40 Federation La</td>\n",
       "      <td>3</td>\n",
       "      <td>h</td>\n",
       "      <td>850000.0</td>\n",
       "      <td>PI</td>\n",
       "      <td>Biggin</td>\n",
       "      <td>4/03/2017</td>\n",
       "      <td>2.5</td>\n",
       "      <td>...</td>\n",
       "      <td>2.0</td>\n",
       "      <td>1.0</td>\n",
       "      <td>94.0</td>\n",
       "      <td>NaN</td>\n",
       "      <td>NaN</td>\n",
       "      <td>Yarra</td>\n",
       "      <td>-37.7969</td>\n",
       "      <td>144.9969</td>\n",
       "      <td>Northern Metropolitan</td>\n",
       "      <td>4019.0</td>\n",
       "    </tr>\n",
       "    <tr>\n",
       "      <th>4</th>\n",
       "      <td>6</td>\n",
       "      <td>Abbotsford</td>\n",
       "      <td>55a Park St</td>\n",
       "      <td>4</td>\n",
       "      <td>h</td>\n",
       "      <td>1600000.0</td>\n",
       "      <td>VB</td>\n",
       "      <td>Nelson</td>\n",
       "      <td>4/06/2016</td>\n",
       "      <td>2.5</td>\n",
       "      <td>...</td>\n",
       "      <td>1.0</td>\n",
       "      <td>2.0</td>\n",
       "      <td>120.0</td>\n",
       "      <td>142.0</td>\n",
       "      <td>2014.0</td>\n",
       "      <td>Yarra</td>\n",
       "      <td>-37.8072</td>\n",
       "      <td>144.9941</td>\n",
       "      <td>Northern Metropolitan</td>\n",
       "      <td>4019.0</td>\n",
       "    </tr>\n",
       "  </tbody>\n",
       "</table>\n",
       "<p>5 rows × 22 columns</p>\n",
       "</div>"
      ],
      "text/plain": [
       "   Unnamed: 0      Suburb           Address  Rooms Type      Price Method  \\\n",
       "0           1  Abbotsford      85 Turner St      2    h  1480000.0      S   \n",
       "1           2  Abbotsford   25 Bloomburg St      2    h  1035000.0      S   \n",
       "2           4  Abbotsford      5 Charles St      3    h  1465000.0     SP   \n",
       "3           5  Abbotsford  40 Federation La      3    h   850000.0     PI   \n",
       "4           6  Abbotsford       55a Park St      4    h  1600000.0     VB   \n",
       "\n",
       "  SellerG       Date  Distance      ...        Bathroom  Car  Landsize  \\\n",
       "0  Biggin  3/12/2016       2.5      ...             1.0  1.0     202.0   \n",
       "1  Biggin  4/02/2016       2.5      ...             1.0  0.0     156.0   \n",
       "2  Biggin  4/03/2017       2.5      ...             2.0  0.0     134.0   \n",
       "3  Biggin  4/03/2017       2.5      ...             2.0  1.0      94.0   \n",
       "4  Nelson  4/06/2016       2.5      ...             1.0  2.0     120.0   \n",
       "\n",
       "   BuildingArea  YearBuilt  CouncilArea  Lattitude Longtitude  \\\n",
       "0           NaN        NaN        Yarra   -37.7996   144.9984   \n",
       "1          79.0     1900.0        Yarra   -37.8079   144.9934   \n",
       "2         150.0     1900.0        Yarra   -37.8093   144.9944   \n",
       "3           NaN        NaN        Yarra   -37.7969   144.9969   \n",
       "4         142.0     2014.0        Yarra   -37.8072   144.9941   \n",
       "\n",
       "              Regionname  Propertycount  \n",
       "0  Northern Metropolitan         4019.0  \n",
       "1  Northern Metropolitan         4019.0  \n",
       "2  Northern Metropolitan         4019.0  \n",
       "3  Northern Metropolitan         4019.0  \n",
       "4  Northern Metropolitan         4019.0  \n",
       "\n",
       "[5 rows x 22 columns]"
      ]
     },
     "execution_count": 48,
     "metadata": {},
     "output_type": "execute_result"
    }
   ],
   "source": [
    "fulldata=pd.read_csv('melb_data.csv')\n",
    "fulldata.head()"
   ]
  },
  {
   "cell_type": "code",
   "execution_count": 56,
   "metadata": {},
   "outputs": [
    {
     "data": {
      "text/plain": [
       "(18396, 22)"
      ]
     },
     "execution_count": 56,
     "metadata": {},
     "output_type": "execute_result"
    }
   ],
   "source": [
    "fulldata.shape"
   ]
  },
  {
   "cell_type": "code",
   "execution_count": 49,
   "metadata": {},
   "outputs": [],
   "source": [
    "fulldata.columns=[col.replace(' ','_').lower() for col in fulldata.columns]"
   ]
  },
  {
   "cell_type": "code",
   "execution_count": 50,
   "metadata": {},
   "outputs": [
    {
     "name": "stdout",
     "output_type": "stream",
     "text": [
      "Index(['unnamed:_0', 'suburb', 'address', 'rooms', 'type', 'price', 'method',\n",
      "       'sellerg', 'date', 'distance', 'postcode', 'bedroom2', 'bathroom',\n",
      "       'car', 'landsize', 'buildingarea', 'yearbuilt', 'councilarea',\n",
      "       'lattitude', 'longtitude', 'regionname', 'propertycount'],\n",
      "      dtype='object')\n"
     ]
    }
   ],
   "source": [
    "print(fulldata.columns)"
   ]
  },
  {
   "cell_type": "code",
   "execution_count": 51,
   "metadata": {},
   "outputs": [],
   "source": [
    "fulldata=fulldata.rename(columns={'unnamed:_0':'id'})"
   ]
  },
  {
   "cell_type": "code",
   "execution_count": 52,
   "metadata": {},
   "outputs": [
    {
     "name": "stdout",
     "output_type": "stream",
     "text": [
      "Index(['id', 'suburb', 'address', 'rooms', 'type', 'price', 'method',\n",
      "       'sellerg', 'date', 'distance', 'postcode', 'bedroom2', 'bathroom',\n",
      "       'car', 'landsize', 'buildingarea', 'yearbuilt', 'councilarea',\n",
      "       'lattitude', 'longtitude', 'regionname', 'propertycount'],\n",
      "      dtype='object')\n"
     ]
    }
   ],
   "source": [
    "print(fulldata.columns)"
   ]
  },
  {
   "cell_type": "code",
   "execution_count": 53,
   "metadata": {},
   "outputs": [],
   "source": [
    "house_price=fulldata.price"
   ]
  },
  {
   "cell_type": "code",
   "execution_count": 54,
   "metadata": {},
   "outputs": [
    {
     "data": {
      "text/plain": [
       "0    1480000.0\n",
       "1    1035000.0\n",
       "2    1465000.0\n",
       "3     850000.0\n",
       "4    1600000.0\n",
       "Name: price, dtype: float64"
      ]
     },
     "execution_count": 54,
     "metadata": {},
     "output_type": "execute_result"
    }
   ],
   "source": [
    "house_price.head()"
   ]
  },
  {
   "cell_type": "code",
   "execution_count": 58,
   "metadata": {},
   "outputs": [],
   "source": [
    "address_price=fulldata[['address','price']]"
   ]
  },
  {
   "cell_type": "code",
   "execution_count": 59,
   "metadata": {},
   "outputs": [
    {
     "data": {
      "text/html": [
       "<div>\n",
       "<style scoped>\n",
       "    .dataframe tbody tr th:only-of-type {\n",
       "        vertical-align: middle;\n",
       "    }\n",
       "\n",
       "    .dataframe tbody tr th {\n",
       "        vertical-align: top;\n",
       "    }\n",
       "\n",
       "    .dataframe thead th {\n",
       "        text-align: right;\n",
       "    }\n",
       "</style>\n",
       "<table border=\"1\" class=\"dataframe\">\n",
       "  <thead>\n",
       "    <tr style=\"text-align: right;\">\n",
       "      <th></th>\n",
       "      <th>address</th>\n",
       "      <th>price</th>\n",
       "    </tr>\n",
       "  </thead>\n",
       "  <tbody>\n",
       "    <tr>\n",
       "      <th>0</th>\n",
       "      <td>85 Turner St</td>\n",
       "      <td>1480000.0</td>\n",
       "    </tr>\n",
       "    <tr>\n",
       "      <th>1</th>\n",
       "      <td>25 Bloomburg St</td>\n",
       "      <td>1035000.0</td>\n",
       "    </tr>\n",
       "    <tr>\n",
       "      <th>2</th>\n",
       "      <td>5 Charles St</td>\n",
       "      <td>1465000.0</td>\n",
       "    </tr>\n",
       "    <tr>\n",
       "      <th>3</th>\n",
       "      <td>40 Federation La</td>\n",
       "      <td>850000.0</td>\n",
       "    </tr>\n",
       "    <tr>\n",
       "      <th>4</th>\n",
       "      <td>55a Park St</td>\n",
       "      <td>1600000.0</td>\n",
       "    </tr>\n",
       "  </tbody>\n",
       "</table>\n",
       "</div>"
      ],
      "text/plain": [
       "            address      price\n",
       "0      85 Turner St  1480000.0\n",
       "1   25 Bloomburg St  1035000.0\n",
       "2      5 Charles St  1465000.0\n",
       "3  40 Federation La   850000.0\n",
       "4       55a Park St  1600000.0"
      ]
     },
     "execution_count": 59,
     "metadata": {},
     "output_type": "execute_result"
    }
   ],
   "source": [
    "address_price.head()"
   ]
  },
  {
   "cell_type": "code",
   "execution_count": 60,
   "metadata": {},
   "outputs": [
    {
     "data": {
      "text/html": [
       "<div>\n",
       "<style scoped>\n",
       "    .dataframe tbody tr th:only-of-type {\n",
       "        vertical-align: middle;\n",
       "    }\n",
       "\n",
       "    .dataframe tbody tr th {\n",
       "        vertical-align: top;\n",
       "    }\n",
       "\n",
       "    .dataframe thead th {\n",
       "        text-align: right;\n",
       "    }\n",
       "</style>\n",
       "<table border=\"1\" class=\"dataframe\">\n",
       "  <thead>\n",
       "    <tr style=\"text-align: right;\">\n",
       "      <th></th>\n",
       "      <th>id</th>\n",
       "      <th>rooms</th>\n",
       "      <th>price</th>\n",
       "      <th>distance</th>\n",
       "      <th>postcode</th>\n",
       "      <th>bedroom2</th>\n",
       "      <th>bathroom</th>\n",
       "      <th>car</th>\n",
       "      <th>landsize</th>\n",
       "      <th>buildingarea</th>\n",
       "      <th>yearbuilt</th>\n",
       "      <th>lattitude</th>\n",
       "      <th>longtitude</th>\n",
       "      <th>propertycount</th>\n",
       "    </tr>\n",
       "  </thead>\n",
       "  <tbody>\n",
       "    <tr>\n",
       "      <th>count</th>\n",
       "      <td>18396.000000</td>\n",
       "      <td>18396.000000</td>\n",
       "      <td>1.839600e+04</td>\n",
       "      <td>18395.000000</td>\n",
       "      <td>18395.000000</td>\n",
       "      <td>14927.000000</td>\n",
       "      <td>14925.000000</td>\n",
       "      <td>14820.000000</td>\n",
       "      <td>13603.000000</td>\n",
       "      <td>7762.000000</td>\n",
       "      <td>8958.000000</td>\n",
       "      <td>15064.000000</td>\n",
       "      <td>15064.000000</td>\n",
       "      <td>18395.000000</td>\n",
       "    </tr>\n",
       "    <tr>\n",
       "      <th>mean</th>\n",
       "      <td>11826.787073</td>\n",
       "      <td>2.935040</td>\n",
       "      <td>1.056697e+06</td>\n",
       "      <td>10.389986</td>\n",
       "      <td>3107.140147</td>\n",
       "      <td>2.913043</td>\n",
       "      <td>1.538492</td>\n",
       "      <td>1.615520</td>\n",
       "      <td>558.116371</td>\n",
       "      <td>151.220219</td>\n",
       "      <td>1965.879996</td>\n",
       "      <td>-37.809849</td>\n",
       "      <td>144.996338</td>\n",
       "      <td>7517.975265</td>\n",
       "    </tr>\n",
       "    <tr>\n",
       "      <th>std</th>\n",
       "      <td>6800.710448</td>\n",
       "      <td>0.958202</td>\n",
       "      <td>6.419217e+05</td>\n",
       "      <td>6.009050</td>\n",
       "      <td>95.000995</td>\n",
       "      <td>0.964641</td>\n",
       "      <td>0.689311</td>\n",
       "      <td>0.955916</td>\n",
       "      <td>3987.326586</td>\n",
       "      <td>519.188596</td>\n",
       "      <td>37.013261</td>\n",
       "      <td>0.081152</td>\n",
       "      <td>0.106375</td>\n",
       "      <td>4488.416599</td>\n",
       "    </tr>\n",
       "    <tr>\n",
       "      <th>min</th>\n",
       "      <td>1.000000</td>\n",
       "      <td>1.000000</td>\n",
       "      <td>8.500000e+04</td>\n",
       "      <td>0.000000</td>\n",
       "      <td>3000.000000</td>\n",
       "      <td>0.000000</td>\n",
       "      <td>0.000000</td>\n",
       "      <td>0.000000</td>\n",
       "      <td>0.000000</td>\n",
       "      <td>0.000000</td>\n",
       "      <td>1196.000000</td>\n",
       "      <td>-38.182550</td>\n",
       "      <td>144.431810</td>\n",
       "      <td>249.000000</td>\n",
       "    </tr>\n",
       "    <tr>\n",
       "      <th>25%</th>\n",
       "      <td>5936.750000</td>\n",
       "      <td>2.000000</td>\n",
       "      <td>6.330000e+05</td>\n",
       "      <td>6.300000</td>\n",
       "      <td>3046.000000</td>\n",
       "      <td>2.000000</td>\n",
       "      <td>1.000000</td>\n",
       "      <td>1.000000</td>\n",
       "      <td>176.500000</td>\n",
       "      <td>93.000000</td>\n",
       "      <td>1950.000000</td>\n",
       "      <td>-37.858100</td>\n",
       "      <td>144.931193</td>\n",
       "      <td>4294.000000</td>\n",
       "    </tr>\n",
       "    <tr>\n",
       "      <th>50%</th>\n",
       "      <td>11820.500000</td>\n",
       "      <td>3.000000</td>\n",
       "      <td>8.800000e+05</td>\n",
       "      <td>9.700000</td>\n",
       "      <td>3085.000000</td>\n",
       "      <td>3.000000</td>\n",
       "      <td>1.000000</td>\n",
       "      <td>2.000000</td>\n",
       "      <td>440.000000</td>\n",
       "      <td>126.000000</td>\n",
       "      <td>1970.000000</td>\n",
       "      <td>-37.803625</td>\n",
       "      <td>145.000920</td>\n",
       "      <td>6567.000000</td>\n",
       "    </tr>\n",
       "    <tr>\n",
       "      <th>75%</th>\n",
       "      <td>17734.250000</td>\n",
       "      <td>3.000000</td>\n",
       "      <td>1.302000e+06</td>\n",
       "      <td>13.300000</td>\n",
       "      <td>3149.000000</td>\n",
       "      <td>3.000000</td>\n",
       "      <td>2.000000</td>\n",
       "      <td>2.000000</td>\n",
       "      <td>651.000000</td>\n",
       "      <td>174.000000</td>\n",
       "      <td>2000.000000</td>\n",
       "      <td>-37.756270</td>\n",
       "      <td>145.060000</td>\n",
       "      <td>10331.000000</td>\n",
       "    </tr>\n",
       "    <tr>\n",
       "      <th>max</th>\n",
       "      <td>23546.000000</td>\n",
       "      <td>12.000000</td>\n",
       "      <td>9.000000e+06</td>\n",
       "      <td>48.100000</td>\n",
       "      <td>3978.000000</td>\n",
       "      <td>20.000000</td>\n",
       "      <td>8.000000</td>\n",
       "      <td>10.000000</td>\n",
       "      <td>433014.000000</td>\n",
       "      <td>44515.000000</td>\n",
       "      <td>2018.000000</td>\n",
       "      <td>-37.408530</td>\n",
       "      <td>145.526350</td>\n",
       "      <td>21650.000000</td>\n",
       "    </tr>\n",
       "  </tbody>\n",
       "</table>\n",
       "</div>"
      ],
      "text/plain": [
       "                 id         rooms         price      distance      postcode  \\\n",
       "count  18396.000000  18396.000000  1.839600e+04  18395.000000  18395.000000   \n",
       "mean   11826.787073      2.935040  1.056697e+06     10.389986   3107.140147   \n",
       "std     6800.710448      0.958202  6.419217e+05      6.009050     95.000995   \n",
       "min        1.000000      1.000000  8.500000e+04      0.000000   3000.000000   \n",
       "25%     5936.750000      2.000000  6.330000e+05      6.300000   3046.000000   \n",
       "50%    11820.500000      3.000000  8.800000e+05      9.700000   3085.000000   \n",
       "75%    17734.250000      3.000000  1.302000e+06     13.300000   3149.000000   \n",
       "max    23546.000000     12.000000  9.000000e+06     48.100000   3978.000000   \n",
       "\n",
       "           bedroom2      bathroom           car       landsize  buildingarea  \\\n",
       "count  14927.000000  14925.000000  14820.000000   13603.000000   7762.000000   \n",
       "mean       2.913043      1.538492      1.615520     558.116371    151.220219   \n",
       "std        0.964641      0.689311      0.955916    3987.326586    519.188596   \n",
       "min        0.000000      0.000000      0.000000       0.000000      0.000000   \n",
       "25%        2.000000      1.000000      1.000000     176.500000     93.000000   \n",
       "50%        3.000000      1.000000      2.000000     440.000000    126.000000   \n",
       "75%        3.000000      2.000000      2.000000     651.000000    174.000000   \n",
       "max       20.000000      8.000000     10.000000  433014.000000  44515.000000   \n",
       "\n",
       "         yearbuilt     lattitude    longtitude  propertycount  \n",
       "count  8958.000000  15064.000000  15064.000000   18395.000000  \n",
       "mean   1965.879996    -37.809849    144.996338    7517.975265  \n",
       "std      37.013261      0.081152      0.106375    4488.416599  \n",
       "min    1196.000000    -38.182550    144.431810     249.000000  \n",
       "25%    1950.000000    -37.858100    144.931193    4294.000000  \n",
       "50%    1970.000000    -37.803625    145.000920    6567.000000  \n",
       "75%    2000.000000    -37.756270    145.060000   10331.000000  \n",
       "max    2018.000000    -37.408530    145.526350   21650.000000  "
      ]
     },
     "execution_count": 60,
     "metadata": {},
     "output_type": "execute_result"
    }
   ],
   "source": [
    "fulldata.describe()"
   ]
  },
  {
   "cell_type": "code",
   "execution_count": 62,
   "metadata": {},
   "outputs": [
    {
     "data": {
      "text/html": [
       "<div>\n",
       "<style scoped>\n",
       "    .dataframe tbody tr th:only-of-type {\n",
       "        vertical-align: middle;\n",
       "    }\n",
       "\n",
       "    .dataframe tbody tr th {\n",
       "        vertical-align: top;\n",
       "    }\n",
       "\n",
       "    .dataframe thead th {\n",
       "        text-align: right;\n",
       "    }\n",
       "</style>\n",
       "<table border=\"1\" class=\"dataframe\">\n",
       "  <thead>\n",
       "    <tr style=\"text-align: right;\">\n",
       "      <th></th>\n",
       "      <th>price</th>\n",
       "    </tr>\n",
       "  </thead>\n",
       "  <tbody>\n",
       "    <tr>\n",
       "      <th>count</th>\n",
       "      <td>1.839600e+04</td>\n",
       "    </tr>\n",
       "    <tr>\n",
       "      <th>mean</th>\n",
       "      <td>1.056697e+06</td>\n",
       "    </tr>\n",
       "    <tr>\n",
       "      <th>std</th>\n",
       "      <td>6.419217e+05</td>\n",
       "    </tr>\n",
       "    <tr>\n",
       "      <th>min</th>\n",
       "      <td>8.500000e+04</td>\n",
       "    </tr>\n",
       "    <tr>\n",
       "      <th>25%</th>\n",
       "      <td>6.330000e+05</td>\n",
       "    </tr>\n",
       "    <tr>\n",
       "      <th>50%</th>\n",
       "      <td>8.800000e+05</td>\n",
       "    </tr>\n",
       "    <tr>\n",
       "      <th>75%</th>\n",
       "      <td>1.302000e+06</td>\n",
       "    </tr>\n",
       "    <tr>\n",
       "      <th>max</th>\n",
       "      <td>9.000000e+06</td>\n",
       "    </tr>\n",
       "  </tbody>\n",
       "</table>\n",
       "</div>"
      ],
      "text/plain": [
       "              price\n",
       "count  1.839600e+04\n",
       "mean   1.056697e+06\n",
       "std    6.419217e+05\n",
       "min    8.500000e+04\n",
       "25%    6.330000e+05\n",
       "50%    8.800000e+05\n",
       "75%    1.302000e+06\n",
       "max    9.000000e+06"
      ]
     },
     "execution_count": 62,
     "metadata": {},
     "output_type": "execute_result"
    }
   ],
   "source": [
    "address_price.describe()"
   ]
  },
  {
   "cell_type": "code",
   "execution_count": 67,
   "metadata": {},
   "outputs": [
    {
     "data": {
      "text/plain": [
       "distance             1\n",
       "postcode             1\n",
       "regionname           1\n",
       "propertycount        1\n",
       "lattitude         3332\n",
       "longtitude        3332\n",
       "bedroom2          3469\n",
       "bathroom          3471\n",
       "car               3576\n",
       "landsize          4793\n",
       "councilarea       6163\n",
       "yearbuilt         9438\n",
       "buildingarea     10634\n",
       "dtype: int64"
      ]
     },
     "execution_count": 67,
     "metadata": {},
     "output_type": "execute_result"
    }
   ],
   "source": [
    "null_counts=fulldata.isnull().sum()\n",
    "null_counts[null_counts>0].sort_values(ascending=True)"
   ]
  },
  {
   "cell_type": "code",
   "execution_count": 66,
   "metadata": {},
   "outputs": [
    {
     "name": "stdout",
     "output_type": "stream",
     "text": [
      "id                   0\n",
      "suburb               0\n",
      "address              0\n",
      "rooms                0\n",
      "type                 0\n",
      "price                0\n",
      "method               0\n",
      "sellerg              0\n",
      "date                 0\n",
      "distance             1\n",
      "postcode             1\n",
      "bedroom2          3469\n",
      "bathroom          3471\n",
      "car               3576\n",
      "landsize          4793\n",
      "buildingarea     10634\n",
      "yearbuilt         9438\n",
      "councilarea       6163\n",
      "lattitude         3332\n",
      "longtitude        3332\n",
      "regionname           1\n",
      "propertycount        1\n",
      "dtype: int64\n"
     ]
    }
   ],
   "source": [
    "print(null_counts)"
   ]
  },
  {
   "cell_type": "code",
   "execution_count": 68,
   "metadata": {},
   "outputs": [],
   "source": [
    "fulldata=fulldata.dropna(axis=0)"
   ]
  },
  {
   "cell_type": "code",
   "execution_count": 70,
   "metadata": {},
   "outputs": [],
   "source": [
    "temp=fulldata.isnull().sum()"
   ]
  },
  {
   "cell_type": "code",
   "execution_count": 73,
   "metadata": {},
   "outputs": [
    {
     "data": {
      "text/plain": [
       "Series([], dtype: int64)"
      ]
     },
     "execution_count": 73,
     "metadata": {},
     "output_type": "execute_result"
    }
   ],
   "source": [
    "temp[temp>0].sort_values(ascending=False)"
   ]
  },
  {
   "cell_type": "code",
   "execution_count": 76,
   "metadata": {},
   "outputs": [
    {
     "name": "stdout",
     "output_type": "stream",
     "text": [
      "Index(['id', 'suburb', 'address', 'rooms', 'type', 'price', 'method',\n",
      "       'sellerg', 'date', 'distance', 'postcode', 'bedroom2', 'bathroom',\n",
      "       'car', 'landsize', 'buildingarea', 'yearbuilt', 'councilarea',\n",
      "       'lattitude', 'longtitude', 'regionname', 'propertycount'],\n",
      "      dtype='object')\n"
     ]
    }
   ],
   "source": [
    "print(fulldata.columns)"
   ]
  },
  {
   "cell_type": "code",
   "execution_count": 74,
   "metadata": {},
   "outputs": [],
   "source": [
    "y=fulldata.price"
   ]
  },
  {
   "cell_type": "code",
   "execution_count": 77,
   "metadata": {},
   "outputs": [],
   "source": [
    "predictors=['rooms','distance','bedroom2', 'landsize', 'yearbuilt', \n",
    "            'buildingarea','lattitude', 'longtitude']"
   ]
  },
  {
   "cell_type": "code",
   "execution_count": 78,
   "metadata": {},
   "outputs": [],
   "source": [
    "X=fulldata[predictors]"
   ]
  },
  {
   "cell_type": "code",
   "execution_count": 79,
   "metadata": {},
   "outputs": [
    {
     "name": "stdout",
     "output_type": "stream",
     "text": [
      "       rooms  distance  bedroom2  landsize  yearbuilt  buildingarea  \\\n",
      "1          2       2.5       2.0     156.0     1900.0         79.00   \n",
      "2          3       2.5       3.0     134.0     1900.0        150.00   \n",
      "4          4       2.5       3.0     120.0     2014.0        142.00   \n",
      "6          3       2.5       4.0     245.0     1910.0        210.00   \n",
      "7          2       2.5       2.0     256.0     1890.0        107.00   \n",
      "11         2       2.5       3.0     220.0     1900.0         75.00   \n",
      "16         3       2.5       3.0     214.0     2005.0        190.00   \n",
      "17         2       2.5       2.0       0.0     2009.0         94.00   \n",
      "22         2       2.5       2.0     238.0     1890.0         97.00   \n",
      "23         3       2.5       3.0     113.0     1880.0        110.00   \n",
      "25         3       2.5       2.0     138.0     1890.0        105.00   \n",
      "27         2       2.5       2.0     150.0     1985.0         73.00   \n",
      "28         4       2.5       4.0     780.0     1900.0        135.00   \n",
      "31         2       2.5       2.0       0.0     1970.0         60.00   \n",
      "32         2       2.5       2.0     124.0     2013.0        135.00   \n",
      "33         2       2.5       2.0     147.0     1900.0         85.00   \n",
      "37         3       2.5       3.0     166.0     2012.0        174.00   \n",
      "39         2       2.5       2.0      98.0     1920.0        128.00   \n",
      "44         3       2.5       3.0     168.0     1950.0        124.00   \n",
      "45         1       2.5       1.0       0.0     2013.0         50.00   \n",
      "46         2       2.5       2.0     162.0     1900.0         91.00   \n",
      "47         3       2.5       3.0     120.0     1998.0        128.00   \n",
      "48         2       2.5       2.0     182.0     1900.0         82.00   \n",
      "50         2       2.5       2.0     172.0     1930.0         81.00   \n",
      "52         3      13.5       3.0     303.0     2016.0        225.00   \n",
      "53         3      13.5       3.0       0.0     1965.0        145.00   \n",
      "54         3      13.5       3.0       0.0     1965.0        145.00   \n",
      "55         2      13.5       2.0     272.0     1950.0         84.00   \n",
      "56         3      13.5       3.0     239.0     2009.0        134.00   \n",
      "57         3      13.5       2.0     290.0     1980.0        116.00   \n",
      "...      ...       ...       ...       ...        ...           ...   \n",
      "15333      4      35.4       4.0     535.0     1970.0        199.00   \n",
      "15335      2       5.1       2.0     126.0     1890.0         65.00   \n",
      "15336      3       6.2       3.0     340.0     2000.0        135.00   \n",
      "15338      2       1.9       2.0      64.0     2000.0        112.00   \n",
      "15345      2       2.7       2.0       0.0     1965.0         64.00   \n",
      "15350      2       5.0       2.0       0.0     1930.0         82.00   \n",
      "15351      2      31.7       2.0     143.0     1999.0        112.00   \n",
      "15353      3      31.7       3.0     754.0     1985.0        131.00   \n",
      "15354      3      31.7       3.0     563.0     1994.0        150.00   \n",
      "15356      3      10.5       3.0     694.0     1950.0        113.60   \n",
      "15357      3      10.5       3.0    1143.0     1980.0        100.00   \n",
      "15358      3      10.5       3.0     672.0     1970.0        110.00   \n",
      "15360      3      18.0       3.0     662.0     2004.0        232.00   \n",
      "15363      3      12.4       3.0     779.0     1970.0        135.00   \n",
      "15364      6      12.4       6.0    1054.0     1970.0        235.00   \n",
      "15366      2      15.3       2.0     140.0     2010.0         78.00   \n",
      "15369      3       7.0       3.0     199.0     1999.0        140.00   \n",
      "15370      3      12.9       3.0     238.0     2011.0        118.00   \n",
      "15371      2      12.9       2.0       0.0     1980.0         66.32   \n",
      "15375      5      14.7       5.0     818.0     1985.0        255.00   \n",
      "15380      4      14.7       4.0     555.0     2002.0        237.00   \n",
      "15381      4      14.7       4.0     533.0     1980.0        170.00   \n",
      "15382      3      14.7       3.0     287.0     2013.0        137.00   \n",
      "15385      4      16.5       4.0     544.0     1997.0        264.00   \n",
      "15386      3      16.5       3.0     691.0     1975.0        177.00   \n",
      "15388      3      35.5       3.0     972.0     1996.0        149.00   \n",
      "15389      3       6.8       3.0     179.0     1890.0        115.00   \n",
      "15390      1       6.8       1.0       0.0     1967.0         35.64   \n",
      "15392      2       4.6       2.0       0.0     2012.0         61.60   \n",
      "15395      6       6.3       6.0    1087.0     1920.0        388.50   \n",
      "\n",
      "       lattitude  longtitude  \n",
      "1      -37.80790   144.99340  \n",
      "2      -37.80930   144.99440  \n",
      "4      -37.80720   144.99410  \n",
      "6      -37.80240   144.99930  \n",
      "7      -37.80600   144.99540  \n",
      "11     -37.80100   144.99890  \n",
      "16     -37.80850   144.99640  \n",
      "17     -37.80780   144.99650  \n",
      "22     -37.80900   144.99760  \n",
      "23     -37.80560   144.99300  \n",
      "25     -37.80210   144.99650  \n",
      "27     -37.80110   145.00040  \n",
      "28     -37.80730   144.99520  \n",
      "31     -37.80150   144.99720  \n",
      "32     -37.80790   144.99770  \n",
      "33     -37.80800   144.99400  \n",
      "37     -37.80170   145.00010  \n",
      "39     -37.80050   144.99520  \n",
      "44     -37.80070   144.99580  \n",
      "45     -37.80550   144.99610  \n",
      "46     -37.80160   144.99560  \n",
      "47     -37.80220   144.99540  \n",
      "48     -37.80210   144.99760  \n",
      "50     -37.80860   144.99460  \n",
      "52     -37.71800   144.87800  \n",
      "53     -37.72030   144.87550  \n",
      "54     -37.72030   144.87550  \n",
      "55     -37.72940   144.88800  \n",
      "56     -37.72180   144.88370  \n",
      "57     -37.72730   144.87440  \n",
      "...          ...         ...  \n",
      "15333  -38.09683   145.12981  \n",
      "15335  -37.80473   144.89095  \n",
      "15336  -37.83172   144.86683  \n",
      "15338  -37.83326   144.95464  \n",
      "15345  -37.84679   145.00206  \n",
      "15350  -37.85911   144.97900  \n",
      "15351  -37.57063   144.70693  \n",
      "15353  -37.58442   144.75565  \n",
      "15354  -37.57499   144.75329  \n",
      "15356  -37.78871   144.81369  \n",
      "15357  -37.79135   144.79948  \n",
      "15358  -37.80118   144.80996  \n",
      "15360  -37.70525   144.75699  \n",
      "15363  -37.76311   145.10494  \n",
      "15364  -37.77404   145.11703  \n",
      "15366  -37.68199   145.01744  \n",
      "15369  -37.75948   144.99615  \n",
      "15370  -37.70322   144.88236  \n",
      "15371  -37.69815   144.88019  \n",
      "15375  -37.87846   145.24212  \n",
      "15380  -37.89359   144.66911  \n",
      "15381  -37.89337   144.64003  \n",
      "15382  -37.87895   144.67070  \n",
      "15385  -37.67841   144.87924  \n",
      "15386  -37.68026   144.88468  \n",
      "15388  -37.51232   145.13282  \n",
      "15389  -37.86558   144.90474  \n",
      "15390  -37.85588   144.89936  \n",
      "15392  -37.85581   144.99025  \n",
      "15395  -37.81038   144.89389  \n",
      "\n",
      "[6196 rows x 8 columns]\n"
     ]
    }
   ],
   "source": [
    "print(X)"
   ]
  },
  {
   "cell_type": "code",
   "execution_count": 81,
   "metadata": {},
   "outputs": [],
   "source": [
    "from sklearn.tree import DecisionTreeRegressor"
   ]
  },
  {
   "cell_type": "code",
   "execution_count": 82,
   "metadata": {},
   "outputs": [],
   "source": [
    "decision_model=DecisionTreeRegressor()"
   ]
  },
  {
   "cell_type": "code",
   "execution_count": 83,
   "metadata": {},
   "outputs": [
    {
     "data": {
      "text/plain": [
       "DecisionTreeRegressor(criterion='mse', max_depth=None, max_features=None,\n",
       "           max_leaf_nodes=None, min_impurity_decrease=0.0,\n",
       "           min_impurity_split=None, min_samples_leaf=1,\n",
       "           min_samples_split=2, min_weight_fraction_leaf=0.0,\n",
       "           presort=False, random_state=None, splitter='best')"
      ]
     },
     "execution_count": 83,
     "metadata": {},
     "output_type": "execute_result"
    }
   ],
   "source": [
    "decision_model.fit(X,y)"
   ]
  },
  {
   "cell_type": "code",
   "execution_count": 84,
   "metadata": {},
   "outputs": [
    {
     "data": {
      "text/html": [
       "<div>\n",
       "<style scoped>\n",
       "    .dataframe tbody tr th:only-of-type {\n",
       "        vertical-align: middle;\n",
       "    }\n",
       "\n",
       "    .dataframe tbody tr th {\n",
       "        vertical-align: top;\n",
       "    }\n",
       "\n",
       "    .dataframe thead th {\n",
       "        text-align: right;\n",
       "    }\n",
       "</style>\n",
       "<table border=\"1\" class=\"dataframe\">\n",
       "  <thead>\n",
       "    <tr style=\"text-align: right;\">\n",
       "      <th></th>\n",
       "      <th>rooms</th>\n",
       "      <th>distance</th>\n",
       "      <th>bedroom2</th>\n",
       "      <th>landsize</th>\n",
       "      <th>yearbuilt</th>\n",
       "      <th>buildingarea</th>\n",
       "      <th>lattitude</th>\n",
       "      <th>longtitude</th>\n",
       "    </tr>\n",
       "  </thead>\n",
       "  <tbody>\n",
       "    <tr>\n",
       "      <th>1</th>\n",
       "      <td>2</td>\n",
       "      <td>2.5</td>\n",
       "      <td>2.0</td>\n",
       "      <td>156.0</td>\n",
       "      <td>1900.0</td>\n",
       "      <td>79.0</td>\n",
       "      <td>-37.8079</td>\n",
       "      <td>144.9934</td>\n",
       "    </tr>\n",
       "    <tr>\n",
       "      <th>2</th>\n",
       "      <td>3</td>\n",
       "      <td>2.5</td>\n",
       "      <td>3.0</td>\n",
       "      <td>134.0</td>\n",
       "      <td>1900.0</td>\n",
       "      <td>150.0</td>\n",
       "      <td>-37.8093</td>\n",
       "      <td>144.9944</td>\n",
       "    </tr>\n",
       "    <tr>\n",
       "      <th>4</th>\n",
       "      <td>4</td>\n",
       "      <td>2.5</td>\n",
       "      <td>3.0</td>\n",
       "      <td>120.0</td>\n",
       "      <td>2014.0</td>\n",
       "      <td>142.0</td>\n",
       "      <td>-37.8072</td>\n",
       "      <td>144.9941</td>\n",
       "    </tr>\n",
       "    <tr>\n",
       "      <th>6</th>\n",
       "      <td>3</td>\n",
       "      <td>2.5</td>\n",
       "      <td>4.0</td>\n",
       "      <td>245.0</td>\n",
       "      <td>1910.0</td>\n",
       "      <td>210.0</td>\n",
       "      <td>-37.8024</td>\n",
       "      <td>144.9993</td>\n",
       "    </tr>\n",
       "    <tr>\n",
       "      <th>7</th>\n",
       "      <td>2</td>\n",
       "      <td>2.5</td>\n",
       "      <td>2.0</td>\n",
       "      <td>256.0</td>\n",
       "      <td>1890.0</td>\n",
       "      <td>107.0</td>\n",
       "      <td>-37.8060</td>\n",
       "      <td>144.9954</td>\n",
       "    </tr>\n",
       "  </tbody>\n",
       "</table>\n",
       "</div>"
      ],
      "text/plain": [
       "   rooms  distance  bedroom2  landsize  yearbuilt  buildingarea  lattitude  \\\n",
       "1      2       2.5       2.0     156.0     1900.0          79.0   -37.8079   \n",
       "2      3       2.5       3.0     134.0     1900.0         150.0   -37.8093   \n",
       "4      4       2.5       3.0     120.0     2014.0         142.0   -37.8072   \n",
       "6      3       2.5       4.0     245.0     1910.0         210.0   -37.8024   \n",
       "7      2       2.5       2.0     256.0     1890.0         107.0   -37.8060   \n",
       "\n",
       "   longtitude  \n",
       "1    144.9934  \n",
       "2    144.9944  \n",
       "4    144.9941  \n",
       "6    144.9993  \n",
       "7    144.9954  "
      ]
     },
     "execution_count": 84,
     "metadata": {},
     "output_type": "execute_result"
    }
   ],
   "source": [
    "X.head()"
   ]
  },
  {
   "cell_type": "code",
   "execution_count": 87,
   "metadata": {},
   "outputs": [
    {
     "data": {
      "text/plain": [
       "array([1035000., 1465000., 1600000., 1876000., 1636000.])"
      ]
     },
     "execution_count": 87,
     "metadata": {},
     "output_type": "execute_result"
    }
   ],
   "source": [
    "decision_model.predict(X.head())"
   ]
  },
  {
   "cell_type": "code",
   "execution_count": 88,
   "metadata": {},
   "outputs": [
    {
     "data": {
      "text/html": [
       "<div>\n",
       "<style scoped>\n",
       "    .dataframe tbody tr th:only-of-type {\n",
       "        vertical-align: middle;\n",
       "    }\n",
       "\n",
       "    .dataframe tbody tr th {\n",
       "        vertical-align: top;\n",
       "    }\n",
       "\n",
       "    .dataframe thead th {\n",
       "        text-align: right;\n",
       "    }\n",
       "</style>\n",
       "<table border=\"1\" class=\"dataframe\">\n",
       "  <thead>\n",
       "    <tr style=\"text-align: right;\">\n",
       "      <th></th>\n",
       "      <th>id</th>\n",
       "      <th>suburb</th>\n",
       "      <th>address</th>\n",
       "      <th>rooms</th>\n",
       "      <th>type</th>\n",
       "      <th>price</th>\n",
       "      <th>method</th>\n",
       "      <th>sellerg</th>\n",
       "      <th>date</th>\n",
       "      <th>distance</th>\n",
       "      <th>...</th>\n",
       "      <th>bathroom</th>\n",
       "      <th>car</th>\n",
       "      <th>landsize</th>\n",
       "      <th>buildingarea</th>\n",
       "      <th>yearbuilt</th>\n",
       "      <th>councilarea</th>\n",
       "      <th>lattitude</th>\n",
       "      <th>longtitude</th>\n",
       "      <th>regionname</th>\n",
       "      <th>propertycount</th>\n",
       "    </tr>\n",
       "  </thead>\n",
       "  <tbody>\n",
       "    <tr>\n",
       "      <th>1</th>\n",
       "      <td>2</td>\n",
       "      <td>Abbotsford</td>\n",
       "      <td>25 Bloomburg St</td>\n",
       "      <td>2</td>\n",
       "      <td>h</td>\n",
       "      <td>1035000.0</td>\n",
       "      <td>S</td>\n",
       "      <td>Biggin</td>\n",
       "      <td>4/02/2016</td>\n",
       "      <td>2.5</td>\n",
       "      <td>...</td>\n",
       "      <td>1.0</td>\n",
       "      <td>0.0</td>\n",
       "      <td>156.0</td>\n",
       "      <td>79.0</td>\n",
       "      <td>1900.0</td>\n",
       "      <td>Yarra</td>\n",
       "      <td>-37.8079</td>\n",
       "      <td>144.9934</td>\n",
       "      <td>Northern Metropolitan</td>\n",
       "      <td>4019.0</td>\n",
       "    </tr>\n",
       "    <tr>\n",
       "      <th>2</th>\n",
       "      <td>4</td>\n",
       "      <td>Abbotsford</td>\n",
       "      <td>5 Charles St</td>\n",
       "      <td>3</td>\n",
       "      <td>h</td>\n",
       "      <td>1465000.0</td>\n",
       "      <td>SP</td>\n",
       "      <td>Biggin</td>\n",
       "      <td>4/03/2017</td>\n",
       "      <td>2.5</td>\n",
       "      <td>...</td>\n",
       "      <td>2.0</td>\n",
       "      <td>0.0</td>\n",
       "      <td>134.0</td>\n",
       "      <td>150.0</td>\n",
       "      <td>1900.0</td>\n",
       "      <td>Yarra</td>\n",
       "      <td>-37.8093</td>\n",
       "      <td>144.9944</td>\n",
       "      <td>Northern Metropolitan</td>\n",
       "      <td>4019.0</td>\n",
       "    </tr>\n",
       "    <tr>\n",
       "      <th>4</th>\n",
       "      <td>6</td>\n",
       "      <td>Abbotsford</td>\n",
       "      <td>55a Park St</td>\n",
       "      <td>4</td>\n",
       "      <td>h</td>\n",
       "      <td>1600000.0</td>\n",
       "      <td>VB</td>\n",
       "      <td>Nelson</td>\n",
       "      <td>4/06/2016</td>\n",
       "      <td>2.5</td>\n",
       "      <td>...</td>\n",
       "      <td>1.0</td>\n",
       "      <td>2.0</td>\n",
       "      <td>120.0</td>\n",
       "      <td>142.0</td>\n",
       "      <td>2014.0</td>\n",
       "      <td>Yarra</td>\n",
       "      <td>-37.8072</td>\n",
       "      <td>144.9941</td>\n",
       "      <td>Northern Metropolitan</td>\n",
       "      <td>4019.0</td>\n",
       "    </tr>\n",
       "    <tr>\n",
       "      <th>6</th>\n",
       "      <td>11</td>\n",
       "      <td>Abbotsford</td>\n",
       "      <td>124 Yarra St</td>\n",
       "      <td>3</td>\n",
       "      <td>h</td>\n",
       "      <td>1876000.0</td>\n",
       "      <td>S</td>\n",
       "      <td>Nelson</td>\n",
       "      <td>7/05/2016</td>\n",
       "      <td>2.5</td>\n",
       "      <td>...</td>\n",
       "      <td>2.0</td>\n",
       "      <td>0.0</td>\n",
       "      <td>245.0</td>\n",
       "      <td>210.0</td>\n",
       "      <td>1910.0</td>\n",
       "      <td>Yarra</td>\n",
       "      <td>-37.8024</td>\n",
       "      <td>144.9993</td>\n",
       "      <td>Northern Metropolitan</td>\n",
       "      <td>4019.0</td>\n",
       "    </tr>\n",
       "    <tr>\n",
       "      <th>7</th>\n",
       "      <td>14</td>\n",
       "      <td>Abbotsford</td>\n",
       "      <td>98 Charles St</td>\n",
       "      <td>2</td>\n",
       "      <td>h</td>\n",
       "      <td>1636000.0</td>\n",
       "      <td>S</td>\n",
       "      <td>Nelson</td>\n",
       "      <td>8/10/2016</td>\n",
       "      <td>2.5</td>\n",
       "      <td>...</td>\n",
       "      <td>1.0</td>\n",
       "      <td>2.0</td>\n",
       "      <td>256.0</td>\n",
       "      <td>107.0</td>\n",
       "      <td>1890.0</td>\n",
       "      <td>Yarra</td>\n",
       "      <td>-37.8060</td>\n",
       "      <td>144.9954</td>\n",
       "      <td>Northern Metropolitan</td>\n",
       "      <td>4019.0</td>\n",
       "    </tr>\n",
       "  </tbody>\n",
       "</table>\n",
       "<p>5 rows × 22 columns</p>\n",
       "</div>"
      ],
      "text/plain": [
       "   id      suburb          address  rooms type      price method sellerg  \\\n",
       "1   2  Abbotsford  25 Bloomburg St      2    h  1035000.0      S  Biggin   \n",
       "2   4  Abbotsford     5 Charles St      3    h  1465000.0     SP  Biggin   \n",
       "4   6  Abbotsford      55a Park St      4    h  1600000.0     VB  Nelson   \n",
       "6  11  Abbotsford     124 Yarra St      3    h  1876000.0      S  Nelson   \n",
       "7  14  Abbotsford    98 Charles St      2    h  1636000.0      S  Nelson   \n",
       "\n",
       "        date  distance      ...        bathroom  car  landsize  buildingarea  \\\n",
       "1  4/02/2016       2.5      ...             1.0  0.0     156.0          79.0   \n",
       "2  4/03/2017       2.5      ...             2.0  0.0     134.0         150.0   \n",
       "4  4/06/2016       2.5      ...             1.0  2.0     120.0         142.0   \n",
       "6  7/05/2016       2.5      ...             2.0  0.0     245.0         210.0   \n",
       "7  8/10/2016       2.5      ...             1.0  2.0     256.0         107.0   \n",
       "\n",
       "   yearbuilt  councilarea  lattitude longtitude             regionname  \\\n",
       "1     1900.0        Yarra   -37.8079   144.9934  Northern Metropolitan   \n",
       "2     1900.0        Yarra   -37.8093   144.9944  Northern Metropolitan   \n",
       "4     2014.0        Yarra   -37.8072   144.9941  Northern Metropolitan   \n",
       "6     1910.0        Yarra   -37.8024   144.9993  Northern Metropolitan   \n",
       "7     1890.0        Yarra   -37.8060   144.9954  Northern Metropolitan   \n",
       "\n",
       "   propertycount  \n",
       "1         4019.0  \n",
       "2         4019.0  \n",
       "4         4019.0  \n",
       "6         4019.0  \n",
       "7         4019.0  \n",
       "\n",
       "[5 rows x 22 columns]"
      ]
     },
     "execution_count": 88,
     "metadata": {},
     "output_type": "execute_result"
    }
   ],
   "source": [
    "fulldata.head()"
   ]
  },
  {
   "cell_type": "code",
   "execution_count": 89,
   "metadata": {},
   "outputs": [
    {
     "data": {
      "text/plain": [
       "1    1035000.0\n",
       "2    1465000.0\n",
       "4    1600000.0\n",
       "6    1876000.0\n",
       "7    1636000.0\n",
       "Name: price, dtype: float64"
      ]
     },
     "execution_count": 89,
     "metadata": {},
     "output_type": "execute_result"
    }
   ],
   "source": [
    "y.head()"
   ]
  },
  {
   "cell_type": "code",
   "execution_count": 97,
   "metadata": {},
   "outputs": [],
   "source": [
    "from sklearn.metrics import mean_absolute_error\n",
    "from sklearn.model_selection import train_test_split"
   ]
  },
  {
   "cell_type": "code",
   "execution_count": 91,
   "metadata": {},
   "outputs": [],
   "source": [
    "train_X,val_X,train_y,val_y=train_test_split(X,y,random_state=0)"
   ]
  },
  {
   "cell_type": "code",
   "execution_count": 92,
   "metadata": {},
   "outputs": [],
   "source": [
    "model_decision=DecisionTreeRegressor()"
   ]
  },
  {
   "cell_type": "code",
   "execution_count": 93,
   "metadata": {},
   "outputs": [
    {
     "data": {
      "text/plain": [
       "DecisionTreeRegressor(criterion='mse', max_depth=None, max_features=None,\n",
       "           max_leaf_nodes=None, min_impurity_decrease=0.0,\n",
       "           min_impurity_split=None, min_samples_leaf=1,\n",
       "           min_samples_split=2, min_weight_fraction_leaf=0.0,\n",
       "           presort=False, random_state=None, splitter='best')"
      ]
     },
     "execution_count": 93,
     "metadata": {},
     "output_type": "execute_result"
    }
   ],
   "source": [
    "model_decision.fit(train_X,train_y)"
   ]
  },
  {
   "cell_type": "code",
   "execution_count": 94,
   "metadata": {},
   "outputs": [],
   "source": [
    "val_predict=model_decision.predict(val_X)"
   ]
  },
  {
   "cell_type": "code",
   "execution_count": 98,
   "metadata": {},
   "outputs": [
    {
     "name": "stdout",
     "output_type": "stream",
     "text": [
      "247160.31375080696\n"
     ]
    }
   ],
   "source": [
    "print(mean_absolute_error(val_y,val_predict))"
   ]
  },
  {
   "cell_type": "code",
   "execution_count": null,
   "metadata": {},
   "outputs": [],
   "source": []
  }
 ],
 "metadata": {
  "kernelspec": {
   "display_name": "Python 3",
   "language": "python",
   "name": "python3"
  },
  "language_info": {
   "codemirror_mode": {
    "name": "ipython",
    "version": 3
   },
   "file_extension": ".py",
   "mimetype": "text/x-python",
   "name": "python",
   "nbconvert_exporter": "python",
   "pygments_lexer": "ipython3",
   "version": "3.6.4"
  }
 },
 "nbformat": 4,
 "nbformat_minor": 2
}
