{
 "cells": [
  {
   "cell_type": "markdown",
   "metadata": {},
   "source": [
    "# Accessing Data with Pandas"
   ]
  },
  {
   "cell_type": "code",
   "execution_count": 3,
   "metadata": {},
   "outputs": [],
   "source": [
    "import pandas as pd\n",
    "fulldata=pd.read_csv(\"parks.csv\")"
   ]
  },
  {
   "cell_type": "code",
   "execution_count": 4,
   "metadata": {},
   "outputs": [
    {
     "data": {
      "text/html": [
       "<div>\n",
       "<style scoped>\n",
       "    .dataframe tbody tr th:only-of-type {\n",
       "        vertical-align: middle;\n",
       "    }\n",
       "\n",
       "    .dataframe tbody tr th {\n",
       "        vertical-align: top;\n",
       "    }\n",
       "\n",
       "    .dataframe thead th {\n",
       "        text-align: right;\n",
       "    }\n",
       "</style>\n",
       "<table border=\"1\" class=\"dataframe\">\n",
       "  <thead>\n",
       "    <tr style=\"text-align: right;\">\n",
       "      <th></th>\n",
       "      <th>Park Code</th>\n",
       "      <th>Park Name</th>\n",
       "      <th>State</th>\n",
       "      <th>Acres</th>\n",
       "      <th>Latitude</th>\n",
       "      <th>Longitude</th>\n",
       "    </tr>\n",
       "  </thead>\n",
       "  <tbody>\n",
       "    <tr>\n",
       "      <th>0</th>\n",
       "      <td>ACAD</td>\n",
       "      <td>Acadia National Park</td>\n",
       "      <td>ME</td>\n",
       "      <td>47390</td>\n",
       "      <td>44.35</td>\n",
       "      <td>-68.21</td>\n",
       "    </tr>\n",
       "    <tr>\n",
       "      <th>1</th>\n",
       "      <td>ARCH</td>\n",
       "      <td>Arches National Park</td>\n",
       "      <td>UT</td>\n",
       "      <td>76519</td>\n",
       "      <td>38.68</td>\n",
       "      <td>-109.57</td>\n",
       "    </tr>\n",
       "    <tr>\n",
       "      <th>2</th>\n",
       "      <td>BADL</td>\n",
       "      <td>Badlands National Park</td>\n",
       "      <td>SD</td>\n",
       "      <td>242756</td>\n",
       "      <td>43.75</td>\n",
       "      <td>-102.50</td>\n",
       "    </tr>\n",
       "    <tr>\n",
       "      <th>3</th>\n",
       "      <td>BIBE</td>\n",
       "      <td>Big Bend National Park</td>\n",
       "      <td>TX</td>\n",
       "      <td>801163</td>\n",
       "      <td>29.25</td>\n",
       "      <td>-103.25</td>\n",
       "    </tr>\n",
       "    <tr>\n",
       "      <th>4</th>\n",
       "      <td>BISC</td>\n",
       "      <td>Biscayne National Park</td>\n",
       "      <td>FL</td>\n",
       "      <td>172924</td>\n",
       "      <td>25.65</td>\n",
       "      <td>-80.08</td>\n",
       "    </tr>\n",
       "  </tbody>\n",
       "</table>\n",
       "</div>"
      ],
      "text/plain": [
       "  Park Code               Park Name State   Acres  Latitude  Longitude\n",
       "0      ACAD    Acadia National Park    ME   47390     44.35     -68.21\n",
       "1      ARCH    Arches National Park    UT   76519     38.68    -109.57\n",
       "2      BADL  Badlands National Park    SD  242756     43.75    -102.50\n",
       "3      BIBE  Big Bend National Park    TX  801163     29.25    -103.25\n",
       "4      BISC  Biscayne National Park    FL  172924     25.65     -80.08"
      ]
     },
     "execution_count": 4,
     "metadata": {},
     "output_type": "execute_result"
    }
   ],
   "source": [
    "fulldata.head()"
   ]
  },
  {
   "cell_type": "code",
   "execution_count": 6,
   "metadata": {},
   "outputs": [
    {
     "data": {
      "text/plain": [
       "(56, 6)"
      ]
     },
     "execution_count": 6,
     "metadata": {},
     "output_type": "execute_result"
    }
   ],
   "source": [
    "fulldata.shape"
   ]
  },
  {
   "cell_type": "code",
   "execution_count": 8,
   "metadata": {},
   "outputs": [
    {
     "data": {
      "text/plain": [
       "Park Code                      BADL\n",
       "Park Name    Badlands National Park\n",
       "State                            SD\n",
       "Acres                        242756\n",
       "Latitude                      43.75\n",
       "Longitude                    -102.5\n",
       "Name: 2, dtype: object"
      ]
     },
     "execution_count": 8,
     "metadata": {},
     "output_type": "execute_result"
    }
   ],
   "source": [
    "fulldata.iloc[2]"
   ]
  },
  {
   "cell_type": "code",
   "execution_count": 14,
   "metadata": {},
   "outputs": [
    {
     "data": {
      "text/html": [
       "<div>\n",
       "<style scoped>\n",
       "    .dataframe tbody tr th:only-of-type {\n",
       "        vertical-align: middle;\n",
       "    }\n",
       "\n",
       "    .dataframe tbody tr th {\n",
       "        vertical-align: top;\n",
       "    }\n",
       "\n",
       "    .dataframe thead th {\n",
       "        text-align: right;\n",
       "    }\n",
       "</style>\n",
       "<table border=\"1\" class=\"dataframe\">\n",
       "  <thead>\n",
       "    <tr style=\"text-align: right;\">\n",
       "      <th></th>\n",
       "      <th>Park Code</th>\n",
       "      <th>Park Name</th>\n",
       "      <th>State</th>\n",
       "      <th>Acres</th>\n",
       "      <th>Latitude</th>\n",
       "      <th>Longitude</th>\n",
       "    </tr>\n",
       "  </thead>\n",
       "  <tbody>\n",
       "    <tr>\n",
       "      <th>1</th>\n",
       "      <td>ARCH</td>\n",
       "      <td>Arches National Park</td>\n",
       "      <td>UT</td>\n",
       "      <td>76519</td>\n",
       "      <td>38.68</td>\n",
       "      <td>-109.57</td>\n",
       "    </tr>\n",
       "    <tr>\n",
       "      <th>2</th>\n",
       "      <td>BADL</td>\n",
       "      <td>Badlands National Park</td>\n",
       "      <td>SD</td>\n",
       "      <td>242756</td>\n",
       "      <td>43.75</td>\n",
       "      <td>-102.50</td>\n",
       "    </tr>\n",
       "    <tr>\n",
       "      <th>3</th>\n",
       "      <td>BIBE</td>\n",
       "      <td>Big Bend National Park</td>\n",
       "      <td>TX</td>\n",
       "      <td>801163</td>\n",
       "      <td>29.25</td>\n",
       "      <td>-103.25</td>\n",
       "    </tr>\n",
       "  </tbody>\n",
       "</table>\n",
       "</div>"
      ],
      "text/plain": [
       "  Park Code               Park Name State   Acres  Latitude  Longitude\n",
       "1      ARCH    Arches National Park    UT   76519     38.68    -109.57\n",
       "2      BADL  Badlands National Park    SD  242756     43.75    -102.50\n",
       "3      BIBE  Big Bend National Park    TX  801163     29.25    -103.25"
      ]
     },
     "execution_count": 14,
     "metadata": {},
     "output_type": "execute_result"
    }
   ],
   "source": [
    "fulldata.iloc[['1','2','3']]"
   ]
  },
  {
   "cell_type": "code",
   "execution_count": 20,
   "metadata": {},
   "outputs": [
    {
     "data": {
      "text/html": [
       "<div>\n",
       "<style scoped>\n",
       "    .dataframe tbody tr th:only-of-type {\n",
       "        vertical-align: middle;\n",
       "    }\n",
       "\n",
       "    .dataframe tbody tr th {\n",
       "        vertical-align: top;\n",
       "    }\n",
       "\n",
       "    .dataframe thead th {\n",
       "        text-align: right;\n",
       "    }\n",
       "</style>\n",
       "<table border=\"1\" class=\"dataframe\">\n",
       "  <thead>\n",
       "    <tr style=\"text-align: right;\">\n",
       "      <th></th>\n",
       "      <th>Park Code</th>\n",
       "      <th>Park Name</th>\n",
       "      <th>State</th>\n",
       "      <th>Acres</th>\n",
       "      <th>Latitude</th>\n",
       "      <th>Longitude</th>\n",
       "    </tr>\n",
       "  </thead>\n",
       "  <tbody>\n",
       "    <tr>\n",
       "      <th>3</th>\n",
       "      <td>BIBE</td>\n",
       "      <td>Big Bend National Park</td>\n",
       "      <td>TX</td>\n",
       "      <td>801163</td>\n",
       "      <td>29.25</td>\n",
       "      <td>-103.25</td>\n",
       "    </tr>\n",
       "    <tr>\n",
       "      <th>4</th>\n",
       "      <td>BISC</td>\n",
       "      <td>Biscayne National Park</td>\n",
       "      <td>FL</td>\n",
       "      <td>172924</td>\n",
       "      <td>25.65</td>\n",
       "      <td>-80.08</td>\n",
       "    </tr>\n",
       "    <tr>\n",
       "      <th>5</th>\n",
       "      <td>BLCA</td>\n",
       "      <td>Black Canyon of the Gunnison National Park</td>\n",
       "      <td>CO</td>\n",
       "      <td>32950</td>\n",
       "      <td>38.57</td>\n",
       "      <td>-107.72</td>\n",
       "    </tr>\n",
       "    <tr>\n",
       "      <th>6</th>\n",
       "      <td>BRCA</td>\n",
       "      <td>Bryce Canyon National Park</td>\n",
       "      <td>UT</td>\n",
       "      <td>35835</td>\n",
       "      <td>37.57</td>\n",
       "      <td>-112.18</td>\n",
       "    </tr>\n",
       "    <tr>\n",
       "      <th>7</th>\n",
       "      <td>CANY</td>\n",
       "      <td>Canyonlands National Park</td>\n",
       "      <td>UT</td>\n",
       "      <td>337598</td>\n",
       "      <td>38.20</td>\n",
       "      <td>-109.93</td>\n",
       "    </tr>\n",
       "    <tr>\n",
       "      <th>8</th>\n",
       "      <td>CARE</td>\n",
       "      <td>Capitol Reef National Park</td>\n",
       "      <td>UT</td>\n",
       "      <td>241904</td>\n",
       "      <td>38.20</td>\n",
       "      <td>-111.17</td>\n",
       "    </tr>\n",
       "    <tr>\n",
       "      <th>9</th>\n",
       "      <td>CAVE</td>\n",
       "      <td>Carlsbad Caverns National Park</td>\n",
       "      <td>NM</td>\n",
       "      <td>46766</td>\n",
       "      <td>32.17</td>\n",
       "      <td>-104.44</td>\n",
       "    </tr>\n",
       "  </tbody>\n",
       "</table>\n",
       "</div>"
      ],
      "text/plain": [
       "  Park Code                                   Park Name State   Acres  \\\n",
       "3      BIBE                      Big Bend National Park    TX  801163   \n",
       "4      BISC                      Biscayne National Park    FL  172924   \n",
       "5      BLCA  Black Canyon of the Gunnison National Park    CO   32950   \n",
       "6      BRCA                  Bryce Canyon National Park    UT   35835   \n",
       "7      CANY                   Canyonlands National Park    UT  337598   \n",
       "8      CARE                  Capitol Reef National Park    UT  241904   \n",
       "9      CAVE              Carlsbad Caverns National Park    NM   46766   \n",
       "\n",
       "   Latitude  Longitude  \n",
       "3     29.25    -103.25  \n",
       "4     25.65     -80.08  \n",
       "5     38.57    -107.72  \n",
       "6     37.57    -112.18  \n",
       "7     38.20    -109.93  \n",
       "8     38.20    -111.17  \n",
       "9     32.17    -104.44  "
      ]
     },
     "execution_count": 20,
     "metadata": {},
     "output_type": "execute_result"
    }
   ],
   "source": [
    "fulldata[3:10]"
   ]
  },
  {
   "cell_type": "code",
   "execution_count": 23,
   "metadata": {},
   "outputs": [
    {
     "data": {
      "text/plain": [
       "0    ME\n",
       "1    UT\n",
       "2    SD\n",
       "3    TX\n",
       "Name: State, dtype: object"
      ]
     },
     "execution_count": 23,
     "metadata": {},
     "output_type": "execute_result"
    }
   ],
   "source": [
    "fulldata['State'].head(4)"
   ]
  },
  {
   "cell_type": "code",
   "execution_count": 25,
   "metadata": {},
   "outputs": [
    {
     "data": {
      "text/plain": [
       "0    ME\n",
       "1    UT\n",
       "2    SD\n",
       "3    TX\n",
       "4    FL\n",
       "Name: State, dtype: object"
      ]
     },
     "execution_count": 25,
     "metadata": {},
     "output_type": "execute_result"
    }
   ],
   "source": [
    "fulldata.State.head(5)"
   ]
  },
  {
   "cell_type": "code",
   "execution_count": 27,
   "metadata": {},
   "outputs": [
    {
     "data": {
      "text/plain": [
       "0     ACAD\n",
       "1     ARCH\n",
       "2     BADL\n",
       "3     BIBE\n",
       "4     BISC\n",
       "5     BLCA\n",
       "6     BRCA\n",
       "7     CANY\n",
       "8     CARE\n",
       "9     CAVE\n",
       "10    CHIS\n",
       "11    CONG\n",
       "12    CRLA\n",
       "13    CUVA\n",
       "14    DENA\n",
       "15    DEVA\n",
       "16    DRTO\n",
       "17    EVER\n",
       "18    GAAR\n",
       "19    GLAC\n",
       "20    GLBA\n",
       "21    GRBA\n",
       "22    GRCA\n",
       "23    GRSA\n",
       "24    GRSM\n",
       "25    GRTE\n",
       "26    GUMO\n",
       "27    HALE\n",
       "28    HAVO\n",
       "29    HOSP\n",
       "30    ISRO\n",
       "31    JOTR\n",
       "32    KATM\n",
       "33    KEFJ\n",
       "34    KOVA\n",
       "35    LACL\n",
       "36    LAVO\n",
       "37    MACA\n",
       "38    MEVE\n",
       "39    MORA\n",
       "40    NOCA\n",
       "41    OLYM\n",
       "42    PEFO\n",
       "43    PINN\n",
       "44    REDW\n",
       "45    ROMO\n",
       "46    SAGU\n",
       "47    SEKI\n",
       "48    SHEN\n",
       "49    THRO\n",
       "50    VOYA\n",
       "51    WICA\n",
       "52    WRST\n",
       "53    YELL\n",
       "54    YOSE\n",
       "55    ZION\n",
       "Name: Park Code, dtype: object"
      ]
     },
     "execution_count": 27,
     "metadata": {},
     "output_type": "execute_result"
    }
   ],
   "source": [
    "fulldata['Park Code']"
   ]
  },
  {
   "cell_type": "code",
   "execution_count": 32,
   "metadata": {},
   "outputs": [],
   "source": [
    "fulldata.columns=[cols.replace(\" \",\"_\").lower()  for cols in fulldata.columns]"
   ]
  },
  {
   "cell_type": "code",
   "execution_count": 33,
   "metadata": {},
   "outputs": [
    {
     "data": {
      "text/plain": [
       "Index(['park_code', 'park_name', 'state', 'acres', 'latitude', 'longitude'], dtype='object')"
      ]
     },
     "execution_count": 33,
     "metadata": {},
     "output_type": "execute_result"
    }
   ],
   "source": [
    "fulldata.columns"
   ]
  },
  {
   "cell_type": "code",
   "execution_count": 35,
   "metadata": {},
   "outputs": [
    {
     "data": {
      "text/html": [
       "<div>\n",
       "<style scoped>\n",
       "    .dataframe tbody tr th:only-of-type {\n",
       "        vertical-align: middle;\n",
       "    }\n",
       "\n",
       "    .dataframe tbody tr th {\n",
       "        vertical-align: top;\n",
       "    }\n",
       "\n",
       "    .dataframe thead th {\n",
       "        text-align: right;\n",
       "    }\n",
       "</style>\n",
       "<table border=\"1\" class=\"dataframe\">\n",
       "  <thead>\n",
       "    <tr style=\"text-align: right;\">\n",
       "      <th></th>\n",
       "      <th>park_name</th>\n",
       "      <th>state</th>\n",
       "    </tr>\n",
       "  </thead>\n",
       "  <tbody>\n",
       "    <tr>\n",
       "      <th>0</th>\n",
       "      <td>Acadia National Park</td>\n",
       "      <td>ME</td>\n",
       "    </tr>\n",
       "    <tr>\n",
       "      <th>1</th>\n",
       "      <td>Arches National Park</td>\n",
       "      <td>UT</td>\n",
       "    </tr>\n",
       "    <tr>\n",
       "      <th>2</th>\n",
       "      <td>Badlands National Park</td>\n",
       "      <td>SD</td>\n",
       "    </tr>\n",
       "    <tr>\n",
       "      <th>3</th>\n",
       "      <td>Big Bend National Park</td>\n",
       "      <td>TX</td>\n",
       "    </tr>\n",
       "    <tr>\n",
       "      <th>4</th>\n",
       "      <td>Biscayne National Park</td>\n",
       "      <td>FL</td>\n",
       "    </tr>\n",
       "  </tbody>\n",
       "</table>\n",
       "</div>"
      ],
      "text/plain": [
       "                park_name state\n",
       "0    Acadia National Park    ME\n",
       "1    Arches National Park    UT\n",
       "2  Badlands National Park    SD\n",
       "3  Big Bend National Park    TX\n",
       "4  Biscayne National Park    FL"
      ]
     },
     "execution_count": 35,
     "metadata": {},
     "output_type": "execute_result"
    }
   ],
   "source": [
    "fulldata[['park_name','state']][:5]"
   ]
  },
  {
   "cell_type": "code",
   "execution_count": 41,
   "metadata": {},
   "outputs": [
    {
     "data": {
      "text/plain": [
       "2    SD\n",
       "Name: state, dtype: object"
      ]
     },
     "execution_count": 41,
     "metadata": {},
     "output_type": "execute_result"
    }
   ],
   "source": [
    "fulldata.state.iloc[[2]]"
   ]
  },
  {
   "cell_type": "code",
   "execution_count": 45,
   "metadata": {},
   "outputs": [
    {
     "data": {
      "text/html": [
       "<div>\n",
       "<style scoped>\n",
       "    .dataframe tbody tr th:only-of-type {\n",
       "        vertical-align: middle;\n",
       "    }\n",
       "\n",
       "    .dataframe tbody tr th {\n",
       "        vertical-align: top;\n",
       "    }\n",
       "\n",
       "    .dataframe thead th {\n",
       "        text-align: right;\n",
       "    }\n",
       "</style>\n",
       "<table border=\"1\" class=\"dataframe\">\n",
       "  <thead>\n",
       "    <tr style=\"text-align: right;\">\n",
       "      <th></th>\n",
       "      <th>park_code</th>\n",
       "      <th>park_name</th>\n",
       "      <th>state</th>\n",
       "      <th>acres</th>\n",
       "      <th>latitude</th>\n",
       "      <th>longitude</th>\n",
       "    </tr>\n",
       "  </thead>\n",
       "  <tbody>\n",
       "    <tr>\n",
       "      <th>1</th>\n",
       "      <td>ARCH</td>\n",
       "      <td>Arches National Park</td>\n",
       "      <td>UT</td>\n",
       "      <td>76519</td>\n",
       "      <td>38.68</td>\n",
       "      <td>-109.57</td>\n",
       "    </tr>\n",
       "    <tr>\n",
       "      <th>6</th>\n",
       "      <td>BRCA</td>\n",
       "      <td>Bryce Canyon National Park</td>\n",
       "      <td>UT</td>\n",
       "      <td>35835</td>\n",
       "      <td>37.57</td>\n",
       "      <td>-112.18</td>\n",
       "    </tr>\n",
       "    <tr>\n",
       "      <th>7</th>\n",
       "      <td>CANY</td>\n",
       "      <td>Canyonlands National Park</td>\n",
       "      <td>UT</td>\n",
       "      <td>337598</td>\n",
       "      <td>38.20</td>\n",
       "      <td>-109.93</td>\n",
       "    </tr>\n",
       "    <tr>\n",
       "      <th>8</th>\n",
       "      <td>CARE</td>\n",
       "      <td>Capitol Reef National Park</td>\n",
       "      <td>UT</td>\n",
       "      <td>241904</td>\n",
       "      <td>38.20</td>\n",
       "      <td>-111.17</td>\n",
       "    </tr>\n",
       "    <tr>\n",
       "      <th>55</th>\n",
       "      <td>ZION</td>\n",
       "      <td>Zion National Park</td>\n",
       "      <td>UT</td>\n",
       "      <td>146598</td>\n",
       "      <td>37.30</td>\n",
       "      <td>-113.05</td>\n",
       "    </tr>\n",
       "  </tbody>\n",
       "</table>\n",
       "</div>"
      ],
      "text/plain": [
       "   park_code                   park_name state   acres  latitude  longitude\n",
       "1       ARCH        Arches National Park    UT   76519     38.68    -109.57\n",
       "6       BRCA  Bryce Canyon National Park    UT   35835     37.57    -112.18\n",
       "7       CANY   Canyonlands National Park    UT  337598     38.20    -109.93\n",
       "8       CARE  Capitol Reef National Park    UT  241904     38.20    -111.17\n",
       "55      ZION          Zion National Park    UT  146598     37.30    -113.05"
      ]
     },
     "execution_count": 45,
     "metadata": {},
     "output_type": "execute_result"
    }
   ],
   "source": [
    "fulldata[fulldata.state=='UT']"
   ]
  },
  {
   "cell_type": "code",
   "execution_count": 48,
   "metadata": {},
   "outputs": [
    {
     "data": {
      "text/html": [
       "<div>\n",
       "<style scoped>\n",
       "    .dataframe tbody tr th:only-of-type {\n",
       "        vertical-align: middle;\n",
       "    }\n",
       "\n",
       "    .dataframe tbody tr th {\n",
       "        vertical-align: top;\n",
       "    }\n",
       "\n",
       "    .dataframe thead th {\n",
       "        text-align: right;\n",
       "    }\n",
       "</style>\n",
       "<table border=\"1\" class=\"dataframe\">\n",
       "  <thead>\n",
       "    <tr style=\"text-align: right;\">\n",
       "      <th></th>\n",
       "      <th>park_code</th>\n",
       "      <th>park_name</th>\n",
       "      <th>state</th>\n",
       "      <th>acres</th>\n",
       "      <th>latitude</th>\n",
       "      <th>longitude</th>\n",
       "    </tr>\n",
       "  </thead>\n",
       "  <tbody>\n",
       "    <tr>\n",
       "      <th>14</th>\n",
       "      <td>DENA</td>\n",
       "      <td>Denali National Park and Preserve</td>\n",
       "      <td>AK</td>\n",
       "      <td>3372402</td>\n",
       "      <td>63.33</td>\n",
       "      <td>-150.50</td>\n",
       "    </tr>\n",
       "    <tr>\n",
       "      <th>18</th>\n",
       "      <td>GAAR</td>\n",
       "      <td>Gates Of The Arctic National Park and Preserve</td>\n",
       "      <td>AK</td>\n",
       "      <td>7523898</td>\n",
       "      <td>67.78</td>\n",
       "      <td>-153.30</td>\n",
       "    </tr>\n",
       "    <tr>\n",
       "      <th>34</th>\n",
       "      <td>KOVA</td>\n",
       "      <td>Kobuk Valley National Park</td>\n",
       "      <td>AK</td>\n",
       "      <td>1750717</td>\n",
       "      <td>67.55</td>\n",
       "      <td>-159.28</td>\n",
       "    </tr>\n",
       "    <tr>\n",
       "      <th>35</th>\n",
       "      <td>LACL</td>\n",
       "      <td>Lake Clark National Park and Preserve</td>\n",
       "      <td>AK</td>\n",
       "      <td>2619733</td>\n",
       "      <td>60.97</td>\n",
       "      <td>-153.42</td>\n",
       "    </tr>\n",
       "    <tr>\n",
       "      <th>52</th>\n",
       "      <td>WRST</td>\n",
       "      <td>Wrangell - St Elias National Park and Preserve</td>\n",
       "      <td>AK</td>\n",
       "      <td>8323148</td>\n",
       "      <td>61.00</td>\n",
       "      <td>-142.00</td>\n",
       "    </tr>\n",
       "  </tbody>\n",
       "</table>\n",
       "</div>"
      ],
      "text/plain": [
       "   park_code                                       park_name state    acres  \\\n",
       "14      DENA               Denali National Park and Preserve    AK  3372402   \n",
       "18      GAAR  Gates Of The Arctic National Park and Preserve    AK  7523898   \n",
       "34      KOVA                      Kobuk Valley National Park    AK  1750717   \n",
       "35      LACL           Lake Clark National Park and Preserve    AK  2619733   \n",
       "52      WRST  Wrangell - St Elias National Park and Preserve    AK  8323148   \n",
       "\n",
       "    latitude  longitude  \n",
       "14     63.33    -150.50  \n",
       "18     67.78    -153.30  \n",
       "34     67.55    -159.28  \n",
       "35     60.97    -153.42  \n",
       "52     61.00    -142.00  "
      ]
     },
     "execution_count": 48,
     "metadata": {},
     "output_type": "execute_result"
    }
   ],
   "source": [
    "fulldata[(fulldata.latitude>60)|(fulldata.longitude>10*60)]"
   ]
  },
  {
   "cell_type": "code",
   "execution_count": 52,
   "metadata": {},
   "outputs": [
    {
     "data": {
      "text/html": [
       "<div>\n",
       "<style scoped>\n",
       "    .dataframe tbody tr th:only-of-type {\n",
       "        vertical-align: middle;\n",
       "    }\n",
       "\n",
       "    .dataframe tbody tr th {\n",
       "        vertical-align: top;\n",
       "    }\n",
       "\n",
       "    .dataframe thead th {\n",
       "        text-align: right;\n",
       "    }\n",
       "</style>\n",
       "<table border=\"1\" class=\"dataframe\">\n",
       "  <thead>\n",
       "    <tr style=\"text-align: right;\">\n",
       "      <th></th>\n",
       "      <th>park_code</th>\n",
       "      <th>park_name</th>\n",
       "      <th>state</th>\n",
       "      <th>acres</th>\n",
       "      <th>latitude</th>\n",
       "      <th>longitude</th>\n",
       "    </tr>\n",
       "  </thead>\n",
       "  <tbody>\n",
       "    <tr>\n",
       "      <th>39</th>\n",
       "      <td>MORA</td>\n",
       "      <td>Mount Rainier National Park</td>\n",
       "      <td>WA</td>\n",
       "      <td>235625</td>\n",
       "      <td>46.85</td>\n",
       "      <td>-121.75</td>\n",
       "    </tr>\n",
       "    <tr>\n",
       "      <th>40</th>\n",
       "      <td>NOCA</td>\n",
       "      <td>North Cascades National Park</td>\n",
       "      <td>WA</td>\n",
       "      <td>504781</td>\n",
       "      <td>48.70</td>\n",
       "      <td>-121.20</td>\n",
       "    </tr>\n",
       "    <tr>\n",
       "      <th>41</th>\n",
       "      <td>OLYM</td>\n",
       "      <td>Olympic National Park</td>\n",
       "      <td>WA</td>\n",
       "      <td>922651</td>\n",
       "      <td>47.97</td>\n",
       "      <td>-123.50</td>\n",
       "    </tr>\n",
       "  </tbody>\n",
       "</table>\n",
       "</div>"
      ],
      "text/plain": [
       "   park_code                     park_name state   acres  latitude  longitude\n",
       "39      MORA   Mount Rainier National Park    WA  235625     46.85    -121.75\n",
       "40      NOCA  North Cascades National Park    WA  504781     48.70    -121.20\n",
       "41      OLYM         Olympic National Park    WA  922651     47.97    -123.50"
      ]
     },
     "execution_count": 52,
     "metadata": {},
     "output_type": "execute_result"
    }
   ],
   "source": [
    "fulldata[fulldata.state.isin(['WA'])]"
   ]
  },
  {
   "cell_type": "code",
   "execution_count": null,
   "metadata": {},
   "outputs": [],
   "source": []
  }
 ],
 "metadata": {
  "kernelspec": {
   "display_name": "Python 3",
   "language": "python",
   "name": "python3"
  },
  "language_info": {
   "codemirror_mode": {
    "name": "ipython",
    "version": 3
   },
   "file_extension": ".py",
   "mimetype": "text/x-python",
   "name": "python",
   "nbconvert_exporter": "python",
   "pygments_lexer": "ipython3",
   "version": "3.6.4"
  }
 },
 "nbformat": 4,
 "nbformat_minor": 2
}
