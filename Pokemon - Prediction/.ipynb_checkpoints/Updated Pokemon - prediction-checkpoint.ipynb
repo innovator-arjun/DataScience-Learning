{
 "cells": [
  {
   "cell_type": "markdown",
   "metadata": {},
   "source": [
    "https://www.kaggle.com/vforvince1/visualizing-data-and-predicting-pokemon-fights"
   ]
  },
  {
   "cell_type": "code",
   "execution_count": 160,
   "metadata": {},
   "outputs": [],
   "source": [
    "import pandas as pd\n",
    "import warnings\n",
    "warnings.filterwarnings('ignore')\n",
    "import seaborn as sns\n",
    "import matplotlib.pyplot as plt\n",
    "\n",
    "import numpy as np"
   ]
  },
  {
   "cell_type": "code",
   "execution_count": 161,
   "metadata": {},
   "outputs": [],
   "source": [
    "train=pd.read_csv('data/pokemon.csv')\n",
    "combats=pd.read_csv('data/combats.csv')\n",
    "test=pd.read_csv('data/tests.csv')\n"
   ]
  },
  {
   "cell_type": "code",
   "execution_count": 162,
   "metadata": {},
   "outputs": [],
   "source": [
    "prediction_df=test.copy()"
   ]
  },
  {
   "cell_type": "code",
   "execution_count": 163,
   "metadata": {},
   "outputs": [
    {
     "data": {
      "text/html": [
       "<div>\n",
       "<style scoped>\n",
       "    .dataframe tbody tr th:only-of-type {\n",
       "        vertical-align: middle;\n",
       "    }\n",
       "\n",
       "    .dataframe tbody tr th {\n",
       "        vertical-align: top;\n",
       "    }\n",
       "\n",
       "    .dataframe thead th {\n",
       "        text-align: right;\n",
       "    }\n",
       "</style>\n",
       "<table border=\"1\" class=\"dataframe\">\n",
       "  <thead>\n",
       "    <tr style=\"text-align: right;\">\n",
       "      <th></th>\n",
       "      <th>#</th>\n",
       "      <th>Name</th>\n",
       "      <th>Type 1</th>\n",
       "      <th>Type 2</th>\n",
       "      <th>HP</th>\n",
       "      <th>Attack</th>\n",
       "      <th>Defense</th>\n",
       "      <th>Sp. Atk</th>\n",
       "      <th>Sp. Def</th>\n",
       "      <th>Speed</th>\n",
       "      <th>Generation</th>\n",
       "      <th>Legendary</th>\n",
       "    </tr>\n",
       "  </thead>\n",
       "  <tbody>\n",
       "    <tr>\n",
       "      <th>0</th>\n",
       "      <td>1</td>\n",
       "      <td>Bulbasaur</td>\n",
       "      <td>Grass</td>\n",
       "      <td>Poison</td>\n",
       "      <td>45</td>\n",
       "      <td>49</td>\n",
       "      <td>49</td>\n",
       "      <td>65</td>\n",
       "      <td>65</td>\n",
       "      <td>45</td>\n",
       "      <td>1</td>\n",
       "      <td>False</td>\n",
       "    </tr>\n",
       "    <tr>\n",
       "      <th>1</th>\n",
       "      <td>2</td>\n",
       "      <td>Ivysaur</td>\n",
       "      <td>Grass</td>\n",
       "      <td>Poison</td>\n",
       "      <td>60</td>\n",
       "      <td>62</td>\n",
       "      <td>63</td>\n",
       "      <td>80</td>\n",
       "      <td>80</td>\n",
       "      <td>60</td>\n",
       "      <td>1</td>\n",
       "      <td>False</td>\n",
       "    </tr>\n",
       "    <tr>\n",
       "      <th>2</th>\n",
       "      <td>3</td>\n",
       "      <td>Venusaur</td>\n",
       "      <td>Grass</td>\n",
       "      <td>Poison</td>\n",
       "      <td>80</td>\n",
       "      <td>82</td>\n",
       "      <td>83</td>\n",
       "      <td>100</td>\n",
       "      <td>100</td>\n",
       "      <td>80</td>\n",
       "      <td>1</td>\n",
       "      <td>False</td>\n",
       "    </tr>\n",
       "    <tr>\n",
       "      <th>3</th>\n",
       "      <td>4</td>\n",
       "      <td>Mega Venusaur</td>\n",
       "      <td>Grass</td>\n",
       "      <td>Poison</td>\n",
       "      <td>80</td>\n",
       "      <td>100</td>\n",
       "      <td>123</td>\n",
       "      <td>122</td>\n",
       "      <td>120</td>\n",
       "      <td>80</td>\n",
       "      <td>1</td>\n",
       "      <td>False</td>\n",
       "    </tr>\n",
       "    <tr>\n",
       "      <th>4</th>\n",
       "      <td>5</td>\n",
       "      <td>Charmander</td>\n",
       "      <td>Fire</td>\n",
       "      <td>NaN</td>\n",
       "      <td>39</td>\n",
       "      <td>52</td>\n",
       "      <td>43</td>\n",
       "      <td>60</td>\n",
       "      <td>50</td>\n",
       "      <td>65</td>\n",
       "      <td>1</td>\n",
       "      <td>False</td>\n",
       "    </tr>\n",
       "  </tbody>\n",
       "</table>\n",
       "</div>"
      ],
      "text/plain": [
       "   #           Name Type 1  Type 2  HP  Attack  Defense  Sp. Atk  Sp. Def  \\\n",
       "0  1      Bulbasaur  Grass  Poison  45      49       49       65       65   \n",
       "1  2        Ivysaur  Grass  Poison  60      62       63       80       80   \n",
       "2  3       Venusaur  Grass  Poison  80      82       83      100      100   \n",
       "3  4  Mega Venusaur  Grass  Poison  80     100      123      122      120   \n",
       "4  5     Charmander   Fire     NaN  39      52       43       60       50   \n",
       "\n",
       "   Speed  Generation  Legendary  \n",
       "0     45           1      False  \n",
       "1     60           1      False  \n",
       "2     80           1      False  \n",
       "3     80           1      False  \n",
       "4     65           1      False  "
      ]
     },
     "execution_count": 163,
     "metadata": {},
     "output_type": "execute_result"
    }
   ],
   "source": [
    "train.head()"
   ]
  },
  {
   "cell_type": "code",
   "execution_count": 164,
   "metadata": {},
   "outputs": [
    {
     "data": {
      "text/plain": [
       "Water       112\n",
       "Normal       98\n",
       "Grass        70\n",
       "Bug          69\n",
       "Psychic      57\n",
       "Fire         52\n",
       "Rock         44\n",
       "Electric     44\n",
       "Ground       32\n",
       "Ghost        32\n",
       "Dragon       32\n",
       "Dark         31\n",
       "Poison       28\n",
       "Steel        27\n",
       "Fighting     27\n",
       "Ice          24\n",
       "Fairy        17\n",
       "Flying        4\n",
       "Name: Type 1, dtype: int64"
      ]
     },
     "execution_count": 164,
     "metadata": {},
     "output_type": "execute_result"
    }
   ],
   "source": [
    "train['Type 1'].value_counts()"
   ]
  },
  {
   "cell_type": "code",
   "execution_count": 165,
   "metadata": {},
   "outputs": [
    {
     "data": {
      "text/plain": [
       "(array([ 0,  1,  2,  3,  4,  5,  6,  7,  8,  9, 10, 11, 12, 13, 14, 15, 16,\n",
       "        17]), <a list of 18 Text xticklabel objects>)"
      ]
     },
     "execution_count": 165,
     "metadata": {},
     "output_type": "execute_result"
    },
    {
     "data": {
      "image/png": "[encoded data removed]",
      "text/plain": [
       "<Figure size 432x288 with 1 Axes>"
      ]
     },
     "metadata": {},
     "output_type": "display_data"
    }
   ],
   "source": [
    "sns.countplot(x='Type 1',data=train,order=train['Type 1'].value_counts().index)\n",
    "plt.xticks(rotation=90)"
   ]
  },
  {
   "cell_type": "code",
   "execution_count": 166,
   "metadata": {},
   "outputs": [
    {
     "data": {
      "text/plain": [
       "(array([ 0,  1,  2,  3,  4,  5,  6,  7,  8,  9, 10, 11, 12, 13, 14, 15, 16,\n",
       "        17]), <a list of 18 Text xticklabel objects>)"
      ]
     },
     "execution_count": 166,
     "metadata": {},
     "output_type": "execute_result"
    },
    {
     "data": {
      "image/png": "[encoded data removed]",
      "text/plain": [
       "<Figure size 432x288 with 1 Axes>"
      ]
     },
     "metadata": {},
     "output_type": "display_data"
    }
   ],
   "source": [
    "sns.countplot(x='Type 2',data=train,order=train['Type 2'].value_counts().index)\n",
    "plt.xticks(rotation=90)"
   ]
  },
  {
   "cell_type": "code",
   "execution_count": 167,
   "metadata": {},
   "outputs": [
    {
     "data": {
      "text/html": [
       "<div>\n",
       "<style scoped>\n",
       "    .dataframe tbody tr th:only-of-type {\n",
       "        vertical-align: middle;\n",
       "    }\n",
       "\n",
       "    .dataframe tbody tr th {\n",
       "        vertical-align: top;\n",
       "    }\n",
       "\n",
       "    .dataframe thead th {\n",
       "        text-align: right;\n",
       "    }\n",
       "</style>\n",
       "<table border=\"1\" class=\"dataframe\">\n",
       "  <thead>\n",
       "    <tr style=\"text-align: right;\">\n",
       "      <th></th>\n",
       "      <th>#</th>\n",
       "      <th>Name</th>\n",
       "      <th>Type 1</th>\n",
       "      <th>Type 2</th>\n",
       "      <th>HP</th>\n",
       "      <th>Attack</th>\n",
       "      <th>Defense</th>\n",
       "      <th>Sp. Atk</th>\n",
       "      <th>Sp. Def</th>\n",
       "      <th>Speed</th>\n",
       "      <th>Generation</th>\n",
       "      <th>Legendary</th>\n",
       "    </tr>\n",
       "  </thead>\n",
       "  <tbody>\n",
       "    <tr>\n",
       "      <th>0</th>\n",
       "      <td>1</td>\n",
       "      <td>Bulbasaur</td>\n",
       "      <td>Grass</td>\n",
       "      <td>Poison</td>\n",
       "      <td>45</td>\n",
       "      <td>49</td>\n",
       "      <td>49</td>\n",
       "      <td>65</td>\n",
       "      <td>65</td>\n",
       "      <td>45</td>\n",
       "      <td>1</td>\n",
       "      <td>False</td>\n",
       "    </tr>\n",
       "    <tr>\n",
       "      <th>1</th>\n",
       "      <td>2</td>\n",
       "      <td>Ivysaur</td>\n",
       "      <td>Grass</td>\n",
       "      <td>Poison</td>\n",
       "      <td>60</td>\n",
       "      <td>62</td>\n",
       "      <td>63</td>\n",
       "      <td>80</td>\n",
       "      <td>80</td>\n",
       "      <td>60</td>\n",
       "      <td>1</td>\n",
       "      <td>False</td>\n",
       "    </tr>\n",
       "    <tr>\n",
       "      <th>2</th>\n",
       "      <td>3</td>\n",
       "      <td>Venusaur</td>\n",
       "      <td>Grass</td>\n",
       "      <td>Poison</td>\n",
       "      <td>80</td>\n",
       "      <td>82</td>\n",
       "      <td>83</td>\n",
       "      <td>100</td>\n",
       "      <td>100</td>\n",
       "      <td>80</td>\n",
       "      <td>1</td>\n",
       "      <td>False</td>\n",
       "    </tr>\n",
       "    <tr>\n",
       "      <th>3</th>\n",
       "      <td>4</td>\n",
       "      <td>Mega Venusaur</td>\n",
       "      <td>Grass</td>\n",
       "      <td>Poison</td>\n",
       "      <td>80</td>\n",
       "      <td>100</td>\n",
       "      <td>123</td>\n",
       "      <td>122</td>\n",
       "      <td>120</td>\n",
       "      <td>80</td>\n",
       "      <td>1</td>\n",
       "      <td>False</td>\n",
       "    </tr>\n",
       "    <tr>\n",
       "      <th>4</th>\n",
       "      <td>5</td>\n",
       "      <td>Charmander</td>\n",
       "      <td>Fire</td>\n",
       "      <td>NaN</td>\n",
       "      <td>39</td>\n",
       "      <td>52</td>\n",
       "      <td>43</td>\n",
       "      <td>60</td>\n",
       "      <td>50</td>\n",
       "      <td>65</td>\n",
       "      <td>1</td>\n",
       "      <td>False</td>\n",
       "    </tr>\n",
       "  </tbody>\n",
       "</table>\n",
       "</div>"
      ],
      "text/plain": [
       "   #           Name Type 1  Type 2  HP  Attack  Defense  Sp. Atk  Sp. Def  \\\n",
       "0  1      Bulbasaur  Grass  Poison  45      49       49       65       65   \n",
       "1  2        Ivysaur  Grass  Poison  60      62       63       80       80   \n",
       "2  3       Venusaur  Grass  Poison  80      82       83      100      100   \n",
       "3  4  Mega Venusaur  Grass  Poison  80     100      123      122      120   \n",
       "4  5     Charmander   Fire     NaN  39      52       43       60       50   \n",
       "\n",
       "   Speed  Generation  Legendary  \n",
       "0     45           1      False  \n",
       "1     60           1      False  \n",
       "2     80           1      False  \n",
       "3     80           1      False  \n",
       "4     65           1      False  "
      ]
     },
     "execution_count": 167,
     "metadata": {},
     "output_type": "execute_result"
    }
   ],
   "source": [
    "train.head()"
   ]
  },
  {
   "cell_type": "code",
   "execution_count": 168,
   "metadata": {},
   "outputs": [],
   "source": [
    "train['Totalstatus']=train['HP']+train['Attack']+train['Defense']+train['Sp. Atk']+train['Sp. Def']+train['Speed']"
   ]
  },
  {
   "cell_type": "code",
   "execution_count": 169,
   "metadata": {},
   "outputs": [
    {
     "data": {
      "text/plain": [
       "<matplotlib.axes._subplots.AxesSubplot at 0x12b5c048>"
      ]
     },
     "execution_count": 169,
     "metadata": {},
     "output_type": "execute_result"
    },
    {
     "data": {
      "image/png": "[encoded data removed]",
      "text/plain": [
       "<Figure size 432x288 with 1 Axes>"
      ]
     },
     "metadata": {},
     "output_type": "display_data"
    }
   ],
   "source": [
    "sns.distplot(train['Totalstatus'])"
   ]
  },
  {
   "cell_type": "code",
   "execution_count": 170,
   "metadata": {},
   "outputs": [
    {
     "data": {
      "text/plain": [
       "435.1025"
      ]
     },
     "execution_count": 170,
     "metadata": {},
     "output_type": "execute_result"
    }
   ],
   "source": [
    "avg_total_status=train['Totalstatus'].mean()\n",
    "avg_total_status"
   ]
  },
  {
   "cell_type": "code",
   "execution_count": 171,
   "metadata": {},
   "outputs": [
    {
     "name": "stdout",
     "output_type": "stream",
     "text": [
      "           Name  Totalstatus\n",
      "206     Sunkern          180\n",
      "322     Azurill          190\n",
      "446   Kricketot          194\n",
      "288     Wurmple          195\n",
      "16       Weedle          195\n",
      "13     Caterpie          195\n",
      "303       Ralts          198\n",
      "732  Scatterbug          200\n",
      "139    Magikarp          200\n",
      "381      Feebas          200\n"
     ]
    }
   ],
   "source": [
    "sorted_pokemon=train.sort_values(by='Totalstatus')\n",
    "\n",
    "print(sorted_pokemon[['Name','Totalstatus']].head(10))"
   ]
  },
  {
   "cell_type": "code",
   "execution_count": 172,
   "metadata": {},
   "outputs": [
    {
     "name": "stdout",
     "output_type": "stream",
     "text": [
      "<class 'pandas.core.frame.DataFrame'>\n",
      "RangeIndex: 800 entries, 0 to 799\n",
      "Data columns (total 13 columns):\n",
      "#              800 non-null int64\n",
      "Name           799 non-null object\n",
      "Type 1         800 non-null object\n",
      "Type 2         414 non-null object\n",
      "HP             800 non-null int64\n",
      "Attack         800 non-null int64\n",
      "Defense        800 non-null int64\n",
      "Sp. Atk        800 non-null int64\n",
      "Sp. Def        800 non-null int64\n",
      "Speed          800 non-null int64\n",
      "Generation     800 non-null int64\n",
      "Legendary      800 non-null bool\n",
      "Totalstatus    800 non-null int64\n",
      "dtypes: bool(1), int64(9), object(3)\n",
      "memory usage: 75.9+ KB\n"
     ]
    }
   ],
   "source": [
    "train.info()"
   ]
  },
  {
   "cell_type": "code",
   "execution_count": 173,
   "metadata": {},
   "outputs": [
    {
     "name": "stdout",
     "output_type": "stream",
     "text": [
      "                    Name  Totalstatus  Legendary\n",
      "413       Mega Metagross          700      False\n",
      "409       Mega Salamence          700      False\n",
      "494        Mega Garchomp          700      False\n",
      "712  Kyurem White Kyurem          700       True\n",
      "552               Arceus          720       True\n",
      "424       Primal Groudon          770       True\n",
      "422        Primal Kyogre          770       True\n",
      "164        Mega Mewtwo Y          780       True\n",
      "426        Mega Rayquaza          780       True\n",
      "163        Mega Mewtwo X          780       True\n"
     ]
    }
   ],
   "source": [
    "print(sorted_pokemon[['Name','Totalstatus','Legendary']].tail(10))"
   ]
  },
  {
   "cell_type": "code",
   "execution_count": 174,
   "metadata": {},
   "outputs": [
    {
     "name": "stdout",
     "output_type": "stream",
     "text": [
      "                          Name  Totalstatus\n",
      "156                   Articuno          580\n",
      "539                      Azelf          580\n",
      "699                   Cobalion          580\n",
      "700                  Terrakion          580\n",
      "701                   Virizion          580\n",
      "702   Tornadus Incarnate Forme          580\n",
      "703     Tornadus Therian Forme          580\n",
      "704  Thundurus Incarnate Forme          580\n",
      "538                    Mesprit          580\n",
      "416                  Registeel          580\n",
      "415                     Regice          580\n",
      "705    Thundurus Therian Forme          580\n",
      "158                    Moltres          580\n",
      "157                     Zapdos          580\n",
      "414                   Regirock          580\n",
      "262                     Raikou          580\n",
      "537                       Uxie          580\n",
      "264                    Suicune          580\n",
      "263                      Entei          580\n",
      "794         Zygarde Half Forme          600\n"
     ]
    }
   ],
   "source": [
    "legendary_pokemon=train.loc[train['Legendary']==True]\n",
    "\n",
    "legendary_pokemon=legendary_pokemon.sort_values(by='Totalstatus')\n",
    "\n",
    "print(legendary_pokemon[['Name','Totalstatus']].head(20))"
   ]
  },
  {
   "cell_type": "code",
   "execution_count": 175,
   "metadata": {},
   "outputs": [
    {
     "data": {
      "text/html": [
       "<div>\n",
       "<style scoped>\n",
       "    .dataframe tbody tr th:only-of-type {\n",
       "        vertical-align: middle;\n",
       "    }\n",
       "\n",
       "    .dataframe tbody tr th {\n",
       "        vertical-align: top;\n",
       "    }\n",
       "\n",
       "    .dataframe thead th {\n",
       "        text-align: right;\n",
       "    }\n",
       "</style>\n",
       "<table border=\"1\" class=\"dataframe\">\n",
       "  <thead>\n",
       "    <tr style=\"text-align: right;\">\n",
       "      <th></th>\n",
       "      <th>#</th>\n",
       "      <th>Name</th>\n",
       "      <th>Type 1</th>\n",
       "      <th>Type 2</th>\n",
       "      <th>HP</th>\n",
       "      <th>Attack</th>\n",
       "      <th>Defense</th>\n",
       "      <th>Sp. Atk</th>\n",
       "      <th>Sp. Def</th>\n",
       "      <th>Speed</th>\n",
       "      <th>Generation</th>\n",
       "      <th>Legendary</th>\n",
       "      <th>Totalstatus</th>\n",
       "    </tr>\n",
       "  </thead>\n",
       "  <tbody>\n",
       "    <tr>\n",
       "      <th>0</th>\n",
       "      <td>1</td>\n",
       "      <td>Bulbasaur</td>\n",
       "      <td>Grass</td>\n",
       "      <td>Poison</td>\n",
       "      <td>45</td>\n",
       "      <td>49</td>\n",
       "      <td>49</td>\n",
       "      <td>65</td>\n",
       "      <td>65</td>\n",
       "      <td>45</td>\n",
       "      <td>1</td>\n",
       "      <td>False</td>\n",
       "      <td>318</td>\n",
       "    </tr>\n",
       "    <tr>\n",
       "      <th>1</th>\n",
       "      <td>2</td>\n",
       "      <td>Ivysaur</td>\n",
       "      <td>Grass</td>\n",
       "      <td>Poison</td>\n",
       "      <td>60</td>\n",
       "      <td>62</td>\n",
       "      <td>63</td>\n",
       "      <td>80</td>\n",
       "      <td>80</td>\n",
       "      <td>60</td>\n",
       "      <td>1</td>\n",
       "      <td>False</td>\n",
       "      <td>405</td>\n",
       "    </tr>\n",
       "    <tr>\n",
       "      <th>2</th>\n",
       "      <td>3</td>\n",
       "      <td>Venusaur</td>\n",
       "      <td>Grass</td>\n",
       "      <td>Poison</td>\n",
       "      <td>80</td>\n",
       "      <td>82</td>\n",
       "      <td>83</td>\n",
       "      <td>100</td>\n",
       "      <td>100</td>\n",
       "      <td>80</td>\n",
       "      <td>1</td>\n",
       "      <td>False</td>\n",
       "      <td>525</td>\n",
       "    </tr>\n",
       "    <tr>\n",
       "      <th>3</th>\n",
       "      <td>4</td>\n",
       "      <td>Mega Venusaur</td>\n",
       "      <td>Grass</td>\n",
       "      <td>Poison</td>\n",
       "      <td>80</td>\n",
       "      <td>100</td>\n",
       "      <td>123</td>\n",
       "      <td>122</td>\n",
       "      <td>120</td>\n",
       "      <td>80</td>\n",
       "      <td>1</td>\n",
       "      <td>False</td>\n",
       "      <td>625</td>\n",
       "    </tr>\n",
       "    <tr>\n",
       "      <th>4</th>\n",
       "      <td>5</td>\n",
       "      <td>Charmander</td>\n",
       "      <td>Fire</td>\n",
       "      <td>NaN</td>\n",
       "      <td>39</td>\n",
       "      <td>52</td>\n",
       "      <td>43</td>\n",
       "      <td>60</td>\n",
       "      <td>50</td>\n",
       "      <td>65</td>\n",
       "      <td>1</td>\n",
       "      <td>False</td>\n",
       "      <td>309</td>\n",
       "    </tr>\n",
       "  </tbody>\n",
       "</table>\n",
       "</div>"
      ],
      "text/plain": [
       "   #           Name Type 1  Type 2  HP  Attack  Defense  Sp. Atk  Sp. Def  \\\n",
       "0  1      Bulbasaur  Grass  Poison  45      49       49       65       65   \n",
       "1  2        Ivysaur  Grass  Poison  60      62       63       80       80   \n",
       "2  3       Venusaur  Grass  Poison  80      82       83      100      100   \n",
       "3  4  Mega Venusaur  Grass  Poison  80     100      123      122      120   \n",
       "4  5     Charmander   Fire     NaN  39      52       43       60       50   \n",
       "\n",
       "   Speed  Generation  Legendary  Totalstatus  \n",
       "0     45           1      False          318  \n",
       "1     60           1      False          405  \n",
       "2     80           1      False          525  \n",
       "3     80           1      False          625  \n",
       "4     65           1      False          309  "
      ]
     },
     "execution_count": 175,
     "metadata": {},
     "output_type": "execute_result"
    }
   ],
   "source": [
    "train.head()"
   ]
  },
  {
   "cell_type": "code",
   "execution_count": 176,
   "metadata": {},
   "outputs": [
    {
     "data": {
      "text/plain": [
       "<matplotlib.axes._subplots.AxesSubplot at 0x1456fa58>"
      ]
     },
     "execution_count": 176,
     "metadata": {},
     "output_type": "execute_result"
    },
    {
     "data": {
      "image/png": "[encoded data removed]",
      "text/plain": [
       "<Figure size 432x288 with 1 Axes>"
      ]
     },
     "metadata": {},
     "output_type": "display_data"
    }
   ],
   "source": [
    "sns.countplot(x='Generation',data=train,order=train.Generation.value_counts().index)"
   ]
  },
  {
   "cell_type": "code",
   "execution_count": 177,
   "metadata": {},
   "outputs": [
    {
     "data": {
      "text/plain": [
       "<matplotlib.axes._subplots.AxesSubplot at 0x14558080>"
      ]
     },
     "execution_count": 177,
     "metadata": {},
     "output_type": "execute_result"
    },
    {
     "data": {
      "image/png": "[encoded data removed]",
      "text/plain": [
       "<Figure size 432x288 with 1 Axes>"
      ]
     },
     "metadata": {},
     "output_type": "display_data"
    }
   ],
   "source": [
    "sns.pointplot(x='Generation',y='Totalstatus',data=train)"
   ]
  },
  {
   "cell_type": "code",
   "execution_count": 178,
   "metadata": {},
   "outputs": [],
   "source": [
    "#Exploring pokemon based on battles"
   ]
  },
  {
   "cell_type": "code",
   "execution_count": 179,
   "metadata": {},
   "outputs": [
    {
     "data": {
      "text/html": [
       "<div>\n",
       "<style scoped>\n",
       "    .dataframe tbody tr th:only-of-type {\n",
       "        vertical-align: middle;\n",
       "    }\n",
       "\n",
       "    .dataframe tbody tr th {\n",
       "        vertical-align: top;\n",
       "    }\n",
       "\n",
       "    .dataframe thead th {\n",
       "        text-align: right;\n",
       "    }\n",
       "</style>\n",
       "<table border=\"1\" class=\"dataframe\">\n",
       "  <thead>\n",
       "    <tr style=\"text-align: right;\">\n",
       "      <th></th>\n",
       "      <th>First_pokemon</th>\n",
       "      <th>Second_pokemon</th>\n",
       "      <th>Winner</th>\n",
       "    </tr>\n",
       "  </thead>\n",
       "  <tbody>\n",
       "    <tr>\n",
       "      <th>0</th>\n",
       "      <td>266</td>\n",
       "      <td>298</td>\n",
       "      <td>298</td>\n",
       "    </tr>\n",
       "    <tr>\n",
       "      <th>1</th>\n",
       "      <td>702</td>\n",
       "      <td>701</td>\n",
       "      <td>701</td>\n",
       "    </tr>\n",
       "    <tr>\n",
       "      <th>2</th>\n",
       "      <td>191</td>\n",
       "      <td>668</td>\n",
       "      <td>668</td>\n",
       "    </tr>\n",
       "    <tr>\n",
       "      <th>3</th>\n",
       "      <td>237</td>\n",
       "      <td>683</td>\n",
       "      <td>683</td>\n",
       "    </tr>\n",
       "    <tr>\n",
       "      <th>4</th>\n",
       "      <td>151</td>\n",
       "      <td>231</td>\n",
       "      <td>151</td>\n",
       "    </tr>\n",
       "  </tbody>\n",
       "</table>\n",
       "</div>"
      ],
      "text/plain": [
       "   First_pokemon  Second_pokemon  Winner\n",
       "0            266             298     298\n",
       "1            702             701     701\n",
       "2            191             668     668\n",
       "3            237             683     683\n",
       "4            151             231     151"
      ]
     },
     "execution_count": 179,
     "metadata": {},
     "output_type": "execute_result"
    }
   ],
   "source": [
    "combats.head()"
   ]
  },
  {
   "cell_type": "code",
   "execution_count": 180,
   "metadata": {},
   "outputs": [
    {
     "name": "stdout",
     "output_type": "stream",
     "text": [
      "  First_pokemon Second_pokemon     Winner\n",
      "0      Larvitar        Nuzleaf    Nuzleaf\n",
      "1      Virizion      Terrakion  Terrakion\n",
      "2       Togetic       Beheeyem   Beheeyem\n",
      "3        Slugma      Druddigon  Druddigon\n",
      "4       Omastar        Shuckle    Omastar\n"
     ]
    }
   ],
   "source": [
    "name_dict=dict(zip(train['#'],train['Name']))\n",
    "combats_df=combats[['First_pokemon','Second_pokemon','Winner']].replace(name_dict)\n",
    "\n",
    "print(combats_df.head())"
   ]
  },
  {
   "cell_type": "code",
   "execution_count": 181,
   "metadata": {},
   "outputs": [],
   "source": [
    "first_battle=combats_df['First_pokemon'].value_counts()"
   ]
  },
  {
   "cell_type": "code",
   "execution_count": 182,
   "metadata": {},
   "outputs": [],
   "source": [
    "second_battle=combats_df['Second_pokemon'].value_counts()\n",
    "win_counts=combats_df['Winner'].value_counts()\n",
    "\n",
    "total_battle=first_battle+second_battle\n"
   ]
  },
  {
   "cell_type": "code",
   "execution_count": 183,
   "metadata": {},
   "outputs": [],
   "source": [
    "win_percent=win_counts/total_battle"
   ]
  },
  {
   "cell_type": "code",
   "execution_count": 184,
   "metadata": {},
   "outputs": [],
   "source": [
    "win_percent=win_percent.sort_values()"
   ]
  },
  {
   "cell_type": "code",
   "execution_count": 185,
   "metadata": {},
   "outputs": [
    {
     "name": "stdout",
     "output_type": "stream",
     "text": [
      "Silcoon      0.021739\n",
      "Togepi       0.024590\n",
      "Solosis      0.031008\n",
      "Slugma       0.032520\n",
      "Munna        0.039062\n",
      "Igglybuff    0.043478\n",
      "Wynaut       0.046154\n",
      "Wooper       0.048000\n",
      "Cascoon      0.052632\n",
      "Spritzee     0.060150\n",
      "dtype: float64\n"
     ]
    }
   ],
   "source": [
    "print(win_percent.head(10))"
   ]
  },
  {
   "cell_type": "code",
   "execution_count": 186,
   "metadata": {},
   "outputs": [
    {
     "data": {
      "text/plain": [
       "Mega Beedrill             0.966387\n",
       "Tornadus Therian Forme    0.968000\n",
       "Weavile                   0.974790\n",
       "Mega Aerodactyl           0.984496\n",
       "Shuckle                        NaN\n",
       "dtype: float64"
      ]
     },
     "execution_count": 186,
     "metadata": {},
     "output_type": "execute_result"
    }
   ],
   "source": [
    "win_percent.tail()"
   ]
  },
  {
   "cell_type": "code",
   "execution_count": 187,
   "metadata": {},
   "outputs": [
    {
     "name": "stdout",
     "output_type": "stream",
     "text": [
      "Aerodactyl                0.964539\n",
      "Mega Beedrill             0.966387\n",
      "Tornadus Therian Forme    0.968000\n",
      "Weavile                   0.974790\n",
      "Mega Aerodactyl           0.984496\n",
      "dtype: float64\n"
     ]
    }
   ],
   "source": [
    "win_percent.dropna(inplace=True)\n",
    "print(win_percent.tail())\n"
   ]
  },
  {
   "cell_type": "code",
   "execution_count": 188,
   "metadata": {},
   "outputs": [],
   "source": [
    "#Data Cleaning"
   ]
  },
  {
   "cell_type": "code",
   "execution_count": 189,
   "metadata": {},
   "outputs": [
    {
     "name": "stdout",
     "output_type": "stream",
     "text": [
      "<class 'pandas.core.frame.DataFrame'>\n",
      "RangeIndex: 800 entries, 0 to 799\n",
      "Data columns (total 13 columns):\n",
      "#              800 non-null int64\n",
      "Name           799 non-null object\n",
      "Type 1         800 non-null object\n",
      "Type 2         414 non-null object\n",
      "HP             800 non-null int64\n",
      "Attack         800 non-null int64\n",
      "Defense        800 non-null int64\n",
      "Sp. Atk        800 non-null int64\n",
      "Sp. Def        800 non-null int64\n",
      "Speed          800 non-null int64\n",
      "Generation     800 non-null int64\n",
      "Legendary      800 non-null bool\n",
      "Totalstatus    800 non-null int64\n",
      "dtypes: bool(1), int64(9), object(3)\n",
      "memory usage: 75.9+ KB\n"
     ]
    }
   ],
   "source": [
    "train.info()"
   ]
  },
  {
   "cell_type": "code",
   "execution_count": 190,
   "metadata": {},
   "outputs": [],
   "source": [
    "train['Type 2']=train['Type 2'].fillna('None')\n",
    "\n",
    "train['Name']=train['Name'].fillna('Primeape')\n",
    "\n",
    "train['Type 1'] = train['Type 1'].replace('Fighting', 'Fight')\n",
    "train['Type 2'] = train['Type 2'].replace('Fighting', 'Fight')"
   ]
  },
  {
   "cell_type": "code",
   "execution_count": 191,
   "metadata": {},
   "outputs": [
    {
     "data": {
      "text/plain": [
       "None        386\n",
       "Flying       97\n",
       "Ground       35\n",
       "Poison       34\n",
       "Psychic      33\n",
       "Fight        26\n",
       "Grass        25\n",
       "Fairy        23\n",
       "Steel        22\n",
       "Dark         20\n",
       "Dragon       18\n",
       "Rock         14\n",
       "Water        14\n",
       "Ice          14\n",
       "Ghost        14\n",
       "Fire         12\n",
       "Electric      6\n",
       "Normal        4\n",
       "Bug           3\n",
       "Name: Type 2, dtype: int64"
      ]
     },
     "execution_count": 191,
     "metadata": {},
     "output_type": "execute_result"
    }
   ],
   "source": [
    "train['Type 1'].value_counts()\n",
    "train['Type 2'].value_counts()"
   ]
  },
  {
   "cell_type": "code",
   "execution_count": 192,
   "metadata": {},
   "outputs": [
    {
     "data": {
      "text/html": [
       "<div>\n",
       "<style scoped>\n",
       "    .dataframe tbody tr th:only-of-type {\n",
       "        vertical-align: middle;\n",
       "    }\n",
       "\n",
       "    .dataframe tbody tr th {\n",
       "        vertical-align: top;\n",
       "    }\n",
       "\n",
       "    .dataframe thead th {\n",
       "        text-align: right;\n",
       "    }\n",
       "</style>\n",
       "<table border=\"1\" class=\"dataframe\">\n",
       "  <thead>\n",
       "    <tr style=\"text-align: right;\">\n",
       "      <th></th>\n",
       "      <th>#</th>\n",
       "      <th>Name</th>\n",
       "      <th>Type 1</th>\n",
       "      <th>Type 2</th>\n",
       "      <th>HP</th>\n",
       "      <th>Attack</th>\n",
       "      <th>Defense</th>\n",
       "      <th>Sp. Atk</th>\n",
       "      <th>Sp. Def</th>\n",
       "      <th>Speed</th>\n",
       "      <th>Generation</th>\n",
       "      <th>Legendary</th>\n",
       "      <th>Totalstatus</th>\n",
       "    </tr>\n",
       "  </thead>\n",
       "  <tbody>\n",
       "    <tr>\n",
       "      <th>0</th>\n",
       "      <td>1</td>\n",
       "      <td>Bulbasaur</td>\n",
       "      <td>Grass</td>\n",
       "      <td>Poison</td>\n",
       "      <td>45</td>\n",
       "      <td>49</td>\n",
       "      <td>49</td>\n",
       "      <td>65</td>\n",
       "      <td>65</td>\n",
       "      <td>45</td>\n",
       "      <td>1</td>\n",
       "      <td>False</td>\n",
       "      <td>318</td>\n",
       "    </tr>\n",
       "    <tr>\n",
       "      <th>1</th>\n",
       "      <td>2</td>\n",
       "      <td>Ivysaur</td>\n",
       "      <td>Grass</td>\n",
       "      <td>Poison</td>\n",
       "      <td>60</td>\n",
       "      <td>62</td>\n",
       "      <td>63</td>\n",
       "      <td>80</td>\n",
       "      <td>80</td>\n",
       "      <td>60</td>\n",
       "      <td>1</td>\n",
       "      <td>False</td>\n",
       "      <td>405</td>\n",
       "    </tr>\n",
       "    <tr>\n",
       "      <th>2</th>\n",
       "      <td>3</td>\n",
       "      <td>Venusaur</td>\n",
       "      <td>Grass</td>\n",
       "      <td>Poison</td>\n",
       "      <td>80</td>\n",
       "      <td>82</td>\n",
       "      <td>83</td>\n",
       "      <td>100</td>\n",
       "      <td>100</td>\n",
       "      <td>80</td>\n",
       "      <td>1</td>\n",
       "      <td>False</td>\n",
       "      <td>525</td>\n",
       "    </tr>\n",
       "    <tr>\n",
       "      <th>3</th>\n",
       "      <td>4</td>\n",
       "      <td>Mega Venusaur</td>\n",
       "      <td>Grass</td>\n",
       "      <td>Poison</td>\n",
       "      <td>80</td>\n",
       "      <td>100</td>\n",
       "      <td>123</td>\n",
       "      <td>122</td>\n",
       "      <td>120</td>\n",
       "      <td>80</td>\n",
       "      <td>1</td>\n",
       "      <td>False</td>\n",
       "      <td>625</td>\n",
       "    </tr>\n",
       "    <tr>\n",
       "      <th>4</th>\n",
       "      <td>5</td>\n",
       "      <td>Charmander</td>\n",
       "      <td>Fire</td>\n",
       "      <td>None</td>\n",
       "      <td>39</td>\n",
       "      <td>52</td>\n",
       "      <td>43</td>\n",
       "      <td>60</td>\n",
       "      <td>50</td>\n",
       "      <td>65</td>\n",
       "      <td>1</td>\n",
       "      <td>False</td>\n",
       "      <td>309</td>\n",
       "    </tr>\n",
       "  </tbody>\n",
       "</table>\n",
       "</div>"
      ],
      "text/plain": [
       "   #           Name Type 1  Type 2  HP  Attack  Defense  Sp. Atk  Sp. Def  \\\n",
       "0  1      Bulbasaur  Grass  Poison  45      49       49       65       65   \n",
       "1  2        Ivysaur  Grass  Poison  60      62       63       80       80   \n",
       "2  3       Venusaur  Grass  Poison  80      82       83      100      100   \n",
       "3  4  Mega Venusaur  Grass  Poison  80     100      123      122      120   \n",
       "4  5     Charmander   Fire    None  39      52       43       60       50   \n",
       "\n",
       "   Speed  Generation  Legendary  Totalstatus  \n",
       "0     45           1      False          318  \n",
       "1     60           1      False          405  \n",
       "2     80           1      False          525  \n",
       "3     80           1      False          625  \n",
       "4     65           1      False          309  "
      ]
     },
     "execution_count": 192,
     "metadata": {},
     "output_type": "execute_result"
    }
   ],
   "source": [
    "train.head()"
   ]
  },
  {
   "cell_type": "code",
   "execution_count": 193,
   "metadata": {},
   "outputs": [],
   "source": [
    "train['Legendary'] = train['Legendary'].map({False: 0, True:1})"
   ]
  },
  {
   "cell_type": "code",
   "execution_count": null,
   "metadata": {},
   "outputs": [],
   "source": []
  },
  {
   "cell_type": "code",
   "execution_count": 194,
   "metadata": {},
   "outputs": [
    {
     "data": {
      "text/html": [
       "<div>\n",
       "<style scoped>\n",
       "    .dataframe tbody tr th:only-of-type {\n",
       "        vertical-align: middle;\n",
       "    }\n",
       "\n",
       "    .dataframe tbody tr th {\n",
       "        vertical-align: top;\n",
       "    }\n",
       "\n",
       "    .dataframe thead th {\n",
       "        text-align: right;\n",
       "    }\n",
       "</style>\n",
       "<table border=\"1\" class=\"dataframe\">\n",
       "  <thead>\n",
       "    <tr style=\"text-align: right;\">\n",
       "      <th></th>\n",
       "      <th>#</th>\n",
       "      <th>Name</th>\n",
       "      <th>Type 1</th>\n",
       "      <th>Type 2</th>\n",
       "      <th>HP</th>\n",
       "      <th>Attack</th>\n",
       "      <th>Defense</th>\n",
       "      <th>Sp. Atk</th>\n",
       "      <th>Sp. Def</th>\n",
       "      <th>Speed</th>\n",
       "      <th>Generation</th>\n",
       "      <th>Legendary</th>\n",
       "      <th>Totalstatus</th>\n",
       "    </tr>\n",
       "  </thead>\n",
       "  <tbody>\n",
       "    <tr>\n",
       "      <th>0</th>\n",
       "      <td>1</td>\n",
       "      <td>Bulbasaur</td>\n",
       "      <td>Grass</td>\n",
       "      <td>Poison</td>\n",
       "      <td>45</td>\n",
       "      <td>49</td>\n",
       "      <td>49</td>\n",
       "      <td>65</td>\n",
       "      <td>65</td>\n",
       "      <td>45</td>\n",
       "      <td>1</td>\n",
       "      <td>0</td>\n",
       "      <td>318</td>\n",
       "    </tr>\n",
       "    <tr>\n",
       "      <th>1</th>\n",
       "      <td>2</td>\n",
       "      <td>Ivysaur</td>\n",
       "      <td>Grass</td>\n",
       "      <td>Poison</td>\n",
       "      <td>60</td>\n",
       "      <td>62</td>\n",
       "      <td>63</td>\n",
       "      <td>80</td>\n",
       "      <td>80</td>\n",
       "      <td>60</td>\n",
       "      <td>1</td>\n",
       "      <td>0</td>\n",
       "      <td>405</td>\n",
       "    </tr>\n",
       "    <tr>\n",
       "      <th>2</th>\n",
       "      <td>3</td>\n",
       "      <td>Venusaur</td>\n",
       "      <td>Grass</td>\n",
       "      <td>Poison</td>\n",
       "      <td>80</td>\n",
       "      <td>82</td>\n",
       "      <td>83</td>\n",
       "      <td>100</td>\n",
       "      <td>100</td>\n",
       "      <td>80</td>\n",
       "      <td>1</td>\n",
       "      <td>0</td>\n",
       "      <td>525</td>\n",
       "    </tr>\n",
       "    <tr>\n",
       "      <th>3</th>\n",
       "      <td>4</td>\n",
       "      <td>Mega Venusaur</td>\n",
       "      <td>Grass</td>\n",
       "      <td>Poison</td>\n",
       "      <td>80</td>\n",
       "      <td>100</td>\n",
       "      <td>123</td>\n",
       "      <td>122</td>\n",
       "      <td>120</td>\n",
       "      <td>80</td>\n",
       "      <td>1</td>\n",
       "      <td>0</td>\n",
       "      <td>625</td>\n",
       "    </tr>\n",
       "    <tr>\n",
       "      <th>4</th>\n",
       "      <td>5</td>\n",
       "      <td>Charmander</td>\n",
       "      <td>Fire</td>\n",
       "      <td>None</td>\n",
       "      <td>39</td>\n",
       "      <td>52</td>\n",
       "      <td>43</td>\n",
       "      <td>60</td>\n",
       "      <td>50</td>\n",
       "      <td>65</td>\n",
       "      <td>1</td>\n",
       "      <td>0</td>\n",
       "      <td>309</td>\n",
       "    </tr>\n",
       "  </tbody>\n",
       "</table>\n",
       "</div>"
      ],
      "text/plain": [
       "   #           Name Type 1  Type 2  HP  Attack  Defense  Sp. Atk  Sp. Def  \\\n",
       "0  1      Bulbasaur  Grass  Poison  45      49       49       65       65   \n",
       "1  2        Ivysaur  Grass  Poison  60      62       63       80       80   \n",
       "2  3       Venusaur  Grass  Poison  80      82       83      100      100   \n",
       "3  4  Mega Venusaur  Grass  Poison  80     100      123      122      120   \n",
       "4  5     Charmander   Fire    None  39      52       43       60       50   \n",
       "\n",
       "   Speed  Generation  Legendary  Totalstatus  \n",
       "0     45           1          0          318  \n",
       "1     60           1          0          405  \n",
       "2     80           1          0          525  \n",
       "3     80           1          0          625  \n",
       "4     65           1          0          309  "
      ]
     },
     "execution_count": 194,
     "metadata": {},
     "output_type": "execute_result"
    }
   ],
   "source": [
    "train.head()"
   ]
  },
  {
   "cell_type": "code",
   "execution_count": 195,
   "metadata": {},
   "outputs": [],
   "source": [
    "type_df=train.iloc[:,0:4]"
   ]
  },
  {
   "cell_type": "code",
   "execution_count": 196,
   "metadata": {},
   "outputs": [],
   "source": [
    "type_df=type_df.drop('Name',axis=1)"
   ]
  },
  {
   "cell_type": "code",
   "execution_count": 197,
   "metadata": {},
   "outputs": [],
   "source": [
    "stats_df=train.drop(['Type 1','Type 2','Name','Generation','Totalstatus'],axis=1)\n",
    "\n",
    "type_dict=type_df.set_index('#').T.to_dict('list')\n",
    "                                          \n",
    "stats_dict=stats_df.set_index('#').T.to_dict('list')"
   ]
  },
  {
   "cell_type": "code",
   "execution_count": 198,
   "metadata": {},
   "outputs": [
    {
     "data": {
      "text/html": [
       "<div>\n",
       "<style scoped>\n",
       "    .dataframe tbody tr th:only-of-type {\n",
       "        vertical-align: middle;\n",
       "    }\n",
       "\n",
       "    .dataframe tbody tr th {\n",
       "        vertical-align: top;\n",
       "    }\n",
       "\n",
       "    .dataframe thead th {\n",
       "        text-align: right;\n",
       "    }\n",
       "</style>\n",
       "<table border=\"1\" class=\"dataframe\">\n",
       "  <thead>\n",
       "    <tr style=\"text-align: right;\">\n",
       "      <th></th>\n",
       "      <th>#</th>\n",
       "      <th>HP</th>\n",
       "      <th>Attack</th>\n",
       "      <th>Defense</th>\n",
       "      <th>Sp. Atk</th>\n",
       "      <th>Sp. Def</th>\n",
       "      <th>Speed</th>\n",
       "      <th>Legendary</th>\n",
       "    </tr>\n",
       "  </thead>\n",
       "  <tbody>\n",
       "    <tr>\n",
       "      <th>0</th>\n",
       "      <td>1</td>\n",
       "      <td>45</td>\n",
       "      <td>49</td>\n",
       "      <td>49</td>\n",
       "      <td>65</td>\n",
       "      <td>65</td>\n",
       "      <td>45</td>\n",
       "      <td>0</td>\n",
       "    </tr>\n",
       "    <tr>\n",
       "      <th>1</th>\n",
       "      <td>2</td>\n",
       "      <td>60</td>\n",
       "      <td>62</td>\n",
       "      <td>63</td>\n",
       "      <td>80</td>\n",
       "      <td>80</td>\n",
       "      <td>60</td>\n",
       "      <td>0</td>\n",
       "    </tr>\n",
       "    <tr>\n",
       "      <th>2</th>\n",
       "      <td>3</td>\n",
       "      <td>80</td>\n",
       "      <td>82</td>\n",
       "      <td>83</td>\n",
       "      <td>100</td>\n",
       "      <td>100</td>\n",
       "      <td>80</td>\n",
       "      <td>0</td>\n",
       "    </tr>\n",
       "    <tr>\n",
       "      <th>3</th>\n",
       "      <td>4</td>\n",
       "      <td>80</td>\n",
       "      <td>100</td>\n",
       "      <td>123</td>\n",
       "      <td>122</td>\n",
       "      <td>120</td>\n",
       "      <td>80</td>\n",
       "      <td>0</td>\n",
       "    </tr>\n",
       "    <tr>\n",
       "      <th>4</th>\n",
       "      <td>5</td>\n",
       "      <td>39</td>\n",
       "      <td>52</td>\n",
       "      <td>43</td>\n",
       "      <td>60</td>\n",
       "      <td>50</td>\n",
       "      <td>65</td>\n",
       "      <td>0</td>\n",
       "    </tr>\n",
       "  </tbody>\n",
       "</table>\n",
       "</div>"
      ],
      "text/plain": [
       "   #  HP  Attack  Defense  Sp. Atk  Sp. Def  Speed  Legendary\n",
       "0  1  45      49       49       65       65     45          0\n",
       "1  2  60      62       63       80       80     60          0\n",
       "2  3  80      82       83      100      100     80          0\n",
       "3  4  80     100      123      122      120     80          0\n",
       "4  5  39      52       43       60       50     65          0"
      ]
     },
     "execution_count": 198,
     "metadata": {},
     "output_type": "execute_result"
    }
   ],
   "source": [
    "stats_df.head()"
   ]
  },
  {
   "cell_type": "code",
   "execution_count": 199,
   "metadata": {},
   "outputs": [
    {
     "name": "stdout",
     "output_type": "stream",
     "text": [
      "   First_pokemon  Second_pokemon  Winner\n",
      "0            266             298       1\n",
      "1            702             701       1\n",
      "2            191             668       1\n",
      "3            237             683       1\n",
      "4            151             231       0\n"
     ]
    }
   ],
   "source": [
    "combats.Winner[combats.Winner == combats.First_pokemon] = 0\n",
    "combats.Winner[combats.Winner == combats.Second_pokemon] = 1\n",
    "\n",
    "print(combats.head(5))"
   ]
  },
  {
   "cell_type": "code",
   "execution_count": 200,
   "metadata": {},
   "outputs": [],
   "source": [
    "def replace_things(data):\n",
    "    \n",
    "    data['First_pokemon_stats']=data.First_pokemon.map(stats_dict)\n",
    "    data['Second_pokemon_stats']=data.Second_pokemon.map(stats_dict)\n",
    "    \n",
    "    data['First_pokemon']=data.First_pokemon.map(type_dict)\n",
    "    data['Second_pokemon']=data.Second_pokemon.map(type_dict)\n",
    "    \n",
    "    return data"
   ]
  },
  {
   "cell_type": "code",
   "execution_count": 201,
   "metadata": {},
   "outputs": [],
   "source": [
    "def calculate_status(data):\n",
    "    stats_col=['HP_diff', 'Attack_diff', 'Defense_diff', 'Sp.Atk_diff', 'Sp.Def_diff', 'Speed_diff', 'Legendary_diff']\n",
    "    diff_list=[]\n",
    "    \n",
    "    for row in data.itertuples():\n",
    "        diff_list.append(np.array(row.First_pokemon_stats)-np.array(row.Second_pokemon_stats))\n",
    "        \n",
    "    stats_df=pd.DataFrame(diff_list,columns=stats_col)\n",
    "    data=pd.concat([data,stats_df],axis=1)\n",
    "    \n",
    "    data.drop(['First_pokemon_stats','Second_pokemon_stats'],axis=1,inplace=True)\n",
    "    \n",
    "    return data"
   ]
  },
  {
   "cell_type": "code",
   "execution_count": 202,
   "metadata": {},
   "outputs": [],
   "source": [
    "def calculate_effectiveness(data):\n",
    "\n",
    "    '''\n",
    "        this function creates a new column of each pokemon's effectiveness against it's enemy.\n",
    "        every effectiveness starts with 1, if an effective type is found on enemy's type, effectiveness * 2\n",
    "        if not very effective is found on enemy's type, effectiveness / 2\n",
    "        if not effective is found on enemy's type, effectiveness * 0\n",
    "        \n",
    "        This function creates 4 new columns\n",
    "            1. P1_type1, pokemon 1 first type effectiveness against the enemy's type\n",
    "            2. P1_type2, pokemon 1 second type effectiveness against the enemy's type\n",
    "            3. P2_type1, pokemon 2 first type effectiveness against the enemy's type\n",
    "            4. P2_type2, pokemon 2 second type effectiveness against the enemy's type\n",
    "    '''\n",
    "    \n",
    "    very_effective_dict = {'Normal': [],\n",
    "                           'Fight': ['Normal', 'Rock', 'Steel', 'Ice', 'Dark'],\n",
    "                           'Flying': ['Fight', 'Bug', 'Grass'],\n",
    "                           'Poison': ['Grass', 'Fairy'],\n",
    "                           'Ground': ['Poison', 'Rock', 'Steel', 'Fire', 'Electric'],\n",
    "                           'Rock': ['Flying', 'Bug', 'Fire', 'Ice'],\n",
    "                           'Bug': ['Grass', 'Psychic', 'Dark'],\n",
    "                           'Ghost': ['Ghost', 'Psychic'],\n",
    "                           'Steel': ['Rock', 'Ice', 'Fairy'],\n",
    "                           'Fire': ['Bug', 'Steel', 'Grass', 'Ice'],\n",
    "                           'Water': ['Ground', 'Rock', 'Fire'],\n",
    "                           'Grass': ['Ground', 'Rock', 'Water'],\n",
    "                           'Electric': ['Flying', 'Water'],\n",
    "                           'Psychic': ['Fight', 'Poison'],\n",
    "                           'Ice': ['Flying', 'Ground', 'Grass', 'Dragon'],\n",
    "                           'Dragon': ['Dragon'],\n",
    "                           'Dark': ['Ghost', 'Psychic'],\n",
    "                           'Fairy': ['Fight', 'Dragon', 'Dark'],\n",
    "                           'None': []}\n",
    "\n",
    "    not_very_effective_dict = {'Normal': ['Rock', 'Steel'],\n",
    "                               'Fight': ['Flying', 'Poison', 'Bug', 'Psychic', 'Fairy'],\n",
    "                               'Flying': ['Rock', 'Steel', 'Electric'],\n",
    "                               'Poison': ['Poison', 'Rock', 'Ground', 'Ghost'],\n",
    "                               'Ground': ['Bug', 'Grass'],\n",
    "                               'Rock': ['Fight', 'Ground', 'Steel'],\n",
    "                               'Bug': ['Fight', 'Flying', 'Poison', 'Ghost', 'Steel', 'Fire', 'Fairy'],\n",
    "                               'Ghost': ['Dark'],\n",
    "                               'Steel': ['Steel', 'Fire', 'Water', 'Electric'],\n",
    "                               'Fire': ['Rock', 'Fire', 'Water', 'Dragon'],\n",
    "                               'Water': ['Water', 'Grass', 'Dragon'],\n",
    "                               'Grass': ['Flying', 'Poison', 'Bug', 'Steel', 'Fire', 'Grass', 'Dragon'],\n",
    "                               'Electric': ['Grass', 'Electric', 'Dragon'],\n",
    "                               'Psychic': ['Steel', 'Psychic'],\n",
    "                               'Ice': ['Steel', 'Fire', 'Water', 'Psychic'],\n",
    "                               'Dragon': ['Steel'],\n",
    "                               'Dark': ['Fight', 'Dark', 'Fairy'],\n",
    "                               'Fairy': ['Posion', 'Steel', 'Fire'],\n",
    "                               'None': []}\n",
    "\n",
    "    not_effective_dict = {'Normal': ['Ghost'],\n",
    "                          'Fight': ['Ghost'],\n",
    "                          'Flying': [],\n",
    "                          'Poison': ['Steel'],\n",
    "                          'Ground': ['Flying'],\n",
    "                          'Rock': [],\n",
    "                          'Bug': [],\n",
    "                          'Ghost': ['Normal'],\n",
    "                          'Steel': [],\n",
    "                          'Fire': [],\n",
    "                          'Water': [],\n",
    "                          'Grass': [],\n",
    "                          'Electric': ['Ground'],\n",
    "                          'Psychic': ['Dark'],\n",
    "                          'Ice': [],\n",
    "                          'Dragon': ['Fairy'],\n",
    "                          'Dark': [],\n",
    "                          'Fairy': [],\n",
    "                          'None': []}\n",
    "\n",
    "    p1_type1_list = []\n",
    "    p1_type2_list = []\n",
    "    p2_type1_list = []\n",
    "    p2_type2_list = []\n",
    "\n",
    "    for row in data.itertuples():\n",
    "        nested_type = [[1, 1], [1, 1]]\n",
    "\n",
    "        #manipulating values if found on dictionary\n",
    "        for i in range(0,2):\n",
    "            for j in range(0,2):\n",
    "                if row.Second_pokemon[j] in very_effective_dict.get(row.First_pokemon[i]):\n",
    "                    nested_type[0][i] *= 2\n",
    "                if row.Second_pokemon[j] in not_very_effective_dict.get(row.First_pokemon[i]):\n",
    "                    nested_type[0][i] /= 2\n",
    "                if row.Second_pokemon[j] in not_effective_dict.get(row.First_pokemon[i]):\n",
    "                    nested_type[0][i] *= 0\n",
    "\n",
    "                if row.First_pokemon[j] in very_effective_dict.get(row.Second_pokemon[i]):\n",
    "                    nested_type[1][i] *= 2\n",
    "                if row.First_pokemon[j] in not_very_effective_dict.get(row.Second_pokemon[i]):\n",
    "                    nested_type[1][i] /= 2\n",
    "                if row.First_pokemon[j] in not_effective_dict.get(row.Second_pokemon[i]):\n",
    "                    nested_type[1][i] *= 0\n",
    "\n",
    "        p1_type1_list.append(nested_type[0][0])\n",
    "        p1_type2_list.append(nested_type[0][1])\n",
    "        p2_type1_list.append(nested_type[1][0])\n",
    "        p2_type2_list.append(nested_type[1][1])\n",
    "\n",
    "    data = data.assign(P1_type1=p1_type1_list, P1_type2=p1_type2_list, P2_type1=p2_type1_list, P2_type2=p2_type2_list)\n",
    "    data = data.drop(['First_pokemon', 'Second_pokemon'], axis=1)\n",
    "\n",
    "    return data"
   ]
  },
  {
   "cell_type": "code",
   "execution_count": 203,
   "metadata": {},
   "outputs": [],
   "source": [
    "train_df=replace_things(combats)"
   ]
  },
  {
   "cell_type": "code",
   "execution_count": null,
   "metadata": {},
   "outputs": [],
   "source": []
  },
  {
   "cell_type": "code",
   "execution_count": 204,
   "metadata": {},
   "outputs": [
    {
     "name": "stdout",
     "output_type": "stream",
     "text": [
      "     First_pokemon   Second_pokemon  Winner            First_pokemon_stats  \\\n",
      "0   [Rock, Ground]    [Grass, Dark]       1    [50, 64, 50, 45, 50, 41, 0]   \n",
      "1   [Grass, Fight]    [Rock, Fight]       1  [91, 90, 72, 90, 129, 108, 1]   \n",
      "2  [Fairy, Flying]  [Psychic, None]       1   [55, 40, 85, 80, 105, 40, 0]   \n",
      "3     [Fire, None]   [Dragon, None]       1    [40, 40, 40, 70, 40, 20, 0]   \n",
      "4    [Rock, Water]      [Bug, Rock]       0  [70, 60, 125, 115, 70, 55, 0]   \n",
      "5  [Bug, Electric]   [Steel, Ghost]       0    [50, 47, 50, 57, 50, 65, 0]   \n",
      "\n",
      "            Second_pokemon_stats  \n",
      "0    [70, 70, 40, 60, 40, 60, 0]  \n",
      "1  [91, 129, 90, 72, 90, 108, 1]  \n",
      "2   [75, 75, 75, 125, 95, 40, 0]  \n",
      "3   [77, 120, 90, 60, 90, 48, 0]  \n",
      "4   [20, 10, 230, 10, 230, 5, 0]  \n",
      "5  [60, 50, 150, 50, 150, 60, 0]  \n"
     ]
    }
   ],
   "source": [
    "print(train_df.head(6))"
   ]
  },
  {
   "cell_type": "code",
   "execution_count": 205,
   "metadata": {},
   "outputs": [],
   "source": [
    "train_df=calculate_status(train_df)"
   ]
  },
  {
   "cell_type": "markdown",
   "metadata": {},
   "source": [
    "train_df['HP_diff']=train_df['HP_diff'].astype(int)\n",
    "train_df['Attack_diff']=train_df.Attack_diff.astype(int)\n",
    "train_df['Defense_diff']=train_df.Defense_diff.astype(int)\n",
    "train_df['Sp.Atk_diff']=train_df['Sp.Atk_diff'].astype(int)\n",
    "train_df['Sp.Def_diff']=train_df['Sp.Def_diff'].astype(int)\n",
    "train_df['Speed_diff']=train_df['Speed_diff'].astype(int)\n",
    "train_df['Legendary_diff']=train_df.Legendary_diff.astype(int)"
   ]
  },
  {
   "cell_type": "code",
   "execution_count": 206,
   "metadata": {},
   "outputs": [
    {
     "name": "stdout",
     "output_type": "stream",
     "text": [
      "<class 'pandas.core.frame.DataFrame'>\n",
      "RangeIndex: 50000 entries, 0 to 49999\n",
      "Data columns (total 10 columns):\n",
      "First_pokemon     50000 non-null object\n",
      "Second_pokemon    50000 non-null object\n",
      "Winner            50000 non-null int64\n",
      "HP_diff           50000 non-null int64\n",
      "Attack_diff       50000 non-null int64\n",
      "Defense_diff      50000 non-null int64\n",
      "Sp.Atk_diff       50000 non-null int64\n",
      "Sp.Def_diff       50000 non-null int64\n",
      "Speed_diff        50000 non-null int64\n",
      "Legendary_diff    50000 non-null int64\n",
      "dtypes: int64(8), object(2)\n",
      "memory usage: 3.8+ MB\n"
     ]
    }
   ],
   "source": [
    "train_df.info()"
   ]
  },
  {
   "cell_type": "code",
   "execution_count": 207,
   "metadata": {},
   "outputs": [],
   "source": [
    "train_df=calculate_effectiveness(train_df)"
   ]
  },
  {
   "cell_type": "code",
   "execution_count": 208,
   "metadata": {},
   "outputs": [
    {
     "data": {
      "text/html": [
       "<div>\n",
       "<style scoped>\n",
       "    .dataframe tbody tr th:only-of-type {\n",
       "        vertical-align: middle;\n",
       "    }\n",
       "\n",
       "    .dataframe tbody tr th {\n",
       "        vertical-align: top;\n",
       "    }\n",
       "\n",
       "    .dataframe thead th {\n",
       "        text-align: right;\n",
       "    }\n",
       "</style>\n",
       "<table border=\"1\" class=\"dataframe\">\n",
       "  <thead>\n",
       "    <tr style=\"text-align: right;\">\n",
       "      <th></th>\n",
       "      <th>Winner</th>\n",
       "      <th>HP_diff</th>\n",
       "      <th>Attack_diff</th>\n",
       "      <th>Defense_diff</th>\n",
       "      <th>Sp.Atk_diff</th>\n",
       "      <th>Sp.Def_diff</th>\n",
       "      <th>Speed_diff</th>\n",
       "      <th>Legendary_diff</th>\n",
       "      <th>P1_type1</th>\n",
       "      <th>P1_type2</th>\n",
       "      <th>P2_type1</th>\n",
       "      <th>P2_type2</th>\n",
       "    </tr>\n",
       "  </thead>\n",
       "  <tbody>\n",
       "    <tr>\n",
       "      <th>0</th>\n",
       "      <td>1</td>\n",
       "      <td>-20</td>\n",
       "      <td>-6</td>\n",
       "      <td>10</td>\n",
       "      <td>-15</td>\n",
       "      <td>10</td>\n",
       "      <td>-19</td>\n",
       "      <td>0</td>\n",
       "      <td>1.0</td>\n",
       "      <td>0.5</td>\n",
       "      <td>4.0</td>\n",
       "      <td>1.0</td>\n",
       "    </tr>\n",
       "    <tr>\n",
       "      <th>1</th>\n",
       "      <td>1</td>\n",
       "      <td>0</td>\n",
       "      <td>-39</td>\n",
       "      <td>-18</td>\n",
       "      <td>18</td>\n",
       "      <td>39</td>\n",
       "      <td>0</td>\n",
       "      <td>0</td>\n",
       "      <td>2.0</td>\n",
       "      <td>2.0</td>\n",
       "      <td>0.5</td>\n",
       "      <td>1.0</td>\n",
       "    </tr>\n",
       "    <tr>\n",
       "      <th>2</th>\n",
       "      <td>1</td>\n",
       "      <td>-20</td>\n",
       "      <td>-35</td>\n",
       "      <td>10</td>\n",
       "      <td>-45</td>\n",
       "      <td>10</td>\n",
       "      <td>0</td>\n",
       "      <td>0</td>\n",
       "      <td>1.0</td>\n",
       "      <td>1.0</td>\n",
       "      <td>1.0</td>\n",
       "      <td>1.0</td>\n",
       "    </tr>\n",
       "    <tr>\n",
       "      <th>3</th>\n",
       "      <td>1</td>\n",
       "      <td>-37</td>\n",
       "      <td>-80</td>\n",
       "      <td>-50</td>\n",
       "      <td>10</td>\n",
       "      <td>-50</td>\n",
       "      <td>-28</td>\n",
       "      <td>0</td>\n",
       "      <td>0.5</td>\n",
       "      <td>1.0</td>\n",
       "      <td>1.0</td>\n",
       "      <td>1.0</td>\n",
       "    </tr>\n",
       "    <tr>\n",
       "      <th>4</th>\n",
       "      <td>0</td>\n",
       "      <td>50</td>\n",
       "      <td>50</td>\n",
       "      <td>-105</td>\n",
       "      <td>105</td>\n",
       "      <td>-160</td>\n",
       "      <td>50</td>\n",
       "      <td>0</td>\n",
       "      <td>2.0</td>\n",
       "      <td>2.0</td>\n",
       "      <td>1.0</td>\n",
       "      <td>1.0</td>\n",
       "    </tr>\n",
       "  </tbody>\n",
       "</table>\n",
       "</div>"
      ],
      "text/plain": [
       "   Winner  HP_diff  Attack_diff  Defense_diff  Sp.Atk_diff  Sp.Def_diff  \\\n",
       "0       1      -20           -6            10          -15           10   \n",
       "1       1        0          -39           -18           18           39   \n",
       "2       1      -20          -35            10          -45           10   \n",
       "3       1      -37          -80           -50           10          -50   \n",
       "4       0       50           50          -105          105         -160   \n",
       "\n",
       "   Speed_diff  Legendary_diff  P1_type1  P1_type2  P2_type1  P2_type2  \n",
       "0         -19               0       1.0       0.5       4.0       1.0  \n",
       "1           0               0       2.0       2.0       0.5       1.0  \n",
       "2           0               0       1.0       1.0       1.0       1.0  \n",
       "3         -28               0       0.5       1.0       1.0       1.0  \n",
       "4          50               0       2.0       2.0       1.0       1.0  "
      ]
     },
     "execution_count": 208,
     "metadata": {},
     "output_type": "execute_result"
    }
   ],
   "source": [
    "train_df.head()"
   ]
  },
  {
   "cell_type": "code",
   "execution_count": 209,
   "metadata": {},
   "outputs": [],
   "source": [
    "y_train_full=train_df['Winner']\n",
    "\n",
    "x_train_full=train_df.drop('Winner',axis=1)\n",
    "\n"
   ]
  },
  {
   "cell_type": "code",
   "execution_count": null,
   "metadata": {},
   "outputs": [],
   "source": []
  },
  {
   "cell_type": "code",
   "execution_count": null,
   "metadata": {},
   "outputs": [],
   "source": []
  },
  {
   "cell_type": "code",
   "execution_count": 210,
   "metadata": {},
   "outputs": [],
   "source": [
    "from sklearn.model_selection import train_test_split\n",
    "\n",
    "x_train,x_cv,y_train,y_cv=train_test_split(x_train_full,y_train_full,test_size=0.25,random_state=42)"
   ]
  },
  {
   "cell_type": "code",
   "execution_count": 211,
   "metadata": {},
   "outputs": [],
   "source": [
    "#Training the mod\n",
    "\n"
   ]
  },
  {
   "cell_type": "code",
   "execution_count": 212,
   "metadata": {},
   "outputs": [],
   "source": [
    "from sklearn.metrics import accuracy_score\n",
    "from sklearn.linear_model import LogisticRegression\n",
    "from sklearn.naive_bayes import GaussianNB\n",
    "from sklearn.ensemble import RandomForestClassifier,AdaBoostClassifier,GradientBoostingClassifier\n",
    "from sklearn.neighbors import KNeighborsClassifier\n",
    "from sklearn.svm import LinearSVC\n",
    "from sklearn.tree import DecisionTreeClassifier"
   ]
  },
  {
   "cell_type": "code",
   "execution_count": null,
   "metadata": {},
   "outputs": [],
   "source": []
  },
  {
   "cell_type": "code",
   "execution_count": null,
   "metadata": {},
   "outputs": [],
   "source": []
  },
  {
   "cell_type": "code",
   "execution_count": 213,
   "metadata": {},
   "outputs": [],
   "source": [
    "clf_dict={\n",
    "    \n",
    "    'log reg':LogisticRegression(),\n",
    "    'navie bayes': GaussianNB(),\n",
    "    'random forest':RandomForestClassifier(n_estimators=100),\n",
    "    'knn':KNeighborsClassifier(),\n",
    "    'linear svc': LinearSVC(),\n",
    "    'ada' : AdaBoostClassifier(n_estimators=100),\n",
    "    'Gradient': GradientBoostingClassifier(n_estimators=100),\n",
    "    'CART': DecisionTreeClassifier()\n",
    "    \n",
    "}"
   ]
  },
  {
   "cell_type": "code",
   "execution_count": 214,
   "metadata": {},
   "outputs": [
    {
     "name": "stdout",
     "output_type": "stream",
     "text": [
      "Accuracy of log reg: 0.88112\n",
      "Accuracy of navie bayes: 0.80864\n",
      "Accuracy of random forest: 0.96176\n",
      "Accuracy of knn: 0.90368\n",
      "Accuracy of linear svc: 0.818\n",
      "Accuracy of ada: 0.94496\n",
      "Accuracy of Gradient: 0.95576\n",
      "Accuracy of CART: 0.93992\n"
     ]
    }
   ],
   "source": [
    "for name, clf in clf_dict.items():\n",
    "    model = clf.fit(x_train, y_train)\n",
    "    pred = model.predict(x_cv)\n",
    "    print('Accuracy of {}:'.format(name), accuracy_score(pred, y_cv))"
   ]
  },
  {
   "cell_type": "code",
   "execution_count": 215,
   "metadata": {},
   "outputs": [],
   "source": [
    "#Prediction"
   ]
  },
  {
   "cell_type": "code",
   "execution_count": 216,
   "metadata": {},
   "outputs": [],
   "source": [
    "test=replace_things(test)\n",
    "test=calculate_status(test)\n",
    "test=calculate_effectiveness(test)\n",
    "\n"
   ]
  },
  {
   "cell_type": "code",
   "execution_count": 217,
   "metadata": {},
   "outputs": [
    {
     "data": {
      "text/html": [
       "<div>\n",
       "<style scoped>\n",
       "    .dataframe tbody tr th:only-of-type {\n",
       "        vertical-align: middle;\n",
       "    }\n",
       "\n",
       "    .dataframe tbody tr th {\n",
       "        vertical-align: top;\n",
       "    }\n",
       "\n",
       "    .dataframe thead th {\n",
       "        text-align: right;\n",
       "    }\n",
       "</style>\n",
       "<table border=\"1\" class=\"dataframe\">\n",
       "  <thead>\n",
       "    <tr style=\"text-align: right;\">\n",
       "      <th></th>\n",
       "      <th>HP_diff</th>\n",
       "      <th>Attack_diff</th>\n",
       "      <th>Defense_diff</th>\n",
       "      <th>Sp.Atk_diff</th>\n",
       "      <th>Sp.Def_diff</th>\n",
       "      <th>Speed_diff</th>\n",
       "      <th>Legendary_diff</th>\n",
       "      <th>P1_type1</th>\n",
       "      <th>P1_type2</th>\n",
       "      <th>P2_type1</th>\n",
       "      <th>P2_type2</th>\n",
       "    </tr>\n",
       "  </thead>\n",
       "  <tbody>\n",
       "    <tr>\n",
       "      <th>0</th>\n",
       "      <td>-10</td>\n",
       "      <td>37</td>\n",
       "      <td>-10</td>\n",
       "      <td>5</td>\n",
       "      <td>5</td>\n",
       "      <td>38</td>\n",
       "      <td>0</td>\n",
       "      <td>1.0</td>\n",
       "      <td>1.0</td>\n",
       "      <td>1.0</td>\n",
       "      <td>1.0</td>\n",
       "    </tr>\n",
       "    <tr>\n",
       "      <th>1</th>\n",
       "      <td>-21</td>\n",
       "      <td>9</td>\n",
       "      <td>46</td>\n",
       "      <td>-11</td>\n",
       "      <td>51</td>\n",
       "      <td>-15</td>\n",
       "      <td>0</td>\n",
       "      <td>4.0</td>\n",
       "      <td>0.5</td>\n",
       "      <td>0.5</td>\n",
       "      <td>1.0</td>\n",
       "    </tr>\n",
       "    <tr>\n",
       "      <th>2</th>\n",
       "      <td>29</td>\n",
       "      <td>-15</td>\n",
       "      <td>17</td>\n",
       "      <td>110</td>\n",
       "      <td>-30</td>\n",
       "      <td>14</td>\n",
       "      <td>1</td>\n",
       "      <td>1.0</td>\n",
       "      <td>2.0</td>\n",
       "      <td>0.5</td>\n",
       "      <td>1.0</td>\n",
       "    </tr>\n",
       "    <tr>\n",
       "      <th>3</th>\n",
       "      <td>-5</td>\n",
       "      <td>-31</td>\n",
       "      <td>-12</td>\n",
       "      <td>-26</td>\n",
       "      <td>-7</td>\n",
       "      <td>-15</td>\n",
       "      <td>0</td>\n",
       "      <td>0.5</td>\n",
       "      <td>1.0</td>\n",
       "      <td>1.0</td>\n",
       "      <td>1.0</td>\n",
       "    </tr>\n",
       "    <tr>\n",
       "      <th>4</th>\n",
       "      <td>-125</td>\n",
       "      <td>-15</td>\n",
       "      <td>-50</td>\n",
       "      <td>-9</td>\n",
       "      <td>-14</td>\n",
       "      <td>5</td>\n",
       "      <td>0</td>\n",
       "      <td>1.0</td>\n",
       "      <td>1.0</td>\n",
       "      <td>1.0</td>\n",
       "      <td>1.0</td>\n",
       "    </tr>\n",
       "  </tbody>\n",
       "</table>\n",
       "</div>"
      ],
      "text/plain": [
       "   HP_diff  Attack_diff  Defense_diff  Sp.Atk_diff  Sp.Def_diff  Speed_diff  \\\n",
       "0      -10           37           -10            5            5          38   \n",
       "1      -21            9            46          -11           51         -15   \n",
       "2       29          -15            17          110          -30          14   \n",
       "3       -5          -31           -12          -26           -7         -15   \n",
       "4     -125          -15           -50           -9          -14           5   \n",
       "\n",
       "   Legendary_diff  P1_type1  P1_type2  P2_type1  P2_type2  \n",
       "0               0       1.0       1.0       1.0       1.0  \n",
       "1               0       4.0       0.5       0.5       1.0  \n",
       "2               1       1.0       2.0       0.5       1.0  \n",
       "3               0       0.5       1.0       1.0       1.0  \n",
       "4               0       1.0       1.0       1.0       1.0  "
      ]
     },
     "execution_count": 217,
     "metadata": {},
     "output_type": "execute_result"
    }
   ],
   "source": [
    "test.head()"
   ]
  },
  {
   "cell_type": "code",
   "execution_count": 218,
   "metadata": {},
   "outputs": [],
   "source": [
    "classifier=RandomForestClassifier(n_estimators=100)\n",
    "model=classifier.fit(x_train_full,y_train_full)\n",
    "\n",
    "prediction=model.predict(test)"
   ]
  },
  {
   "cell_type": "code",
   "execution_count": 220,
   "metadata": {},
   "outputs": [],
   "source": [
    "prediction_df['Winner']=prediction\n",
    "\n",
    "prediction_df['Winner'][prediction_df['Winner']==0]=prediction_df['First_pokemon']\n",
    "\n",
    "prediction_df['Winner'][prediction_df['Winner']==1]=prediction_df['Second_pokemon']\n"
   ]
  },
  {
   "cell_type": "code",
   "execution_count": 222,
   "metadata": {},
   "outputs": [
    {
     "name": "stdout",
     "output_type": "stream",
     "text": [
      "      First_pokemon  Second_pokemon  Winner\n",
      "0               129             117     129\n",
      "1               660             211     211\n",
      "2               706             115     706\n",
      "3               195             618     618\n",
      "4                27             656      27\n",
      "5               126             222     126\n",
      "6               436             207     436\n",
      "7               121              36      36\n",
      "8               169             636     169\n",
      "9               302             688     302\n",
      "10               39             380     380\n",
      "11               11             292      11\n",
      "12              228             747     747\n",
      "13              302             763     302\n",
      "14              455             436     436\n",
      "15              381              14      14\n",
      "16              205             710     205\n",
      "17               86             639     639\n",
      "18              128             681     681\n",
      "19              565             570     570\n",
      "20              496             448     448\n",
      "21               36             378      36\n",
      "22              518             284     518\n",
      "23               97             376     376\n",
      "24              690             542     542\n",
      "25              669             482     482\n",
      "26              164              15     164\n",
      "27              521             773     773\n",
      "28              260             107     260\n",
      "29              524             140     524\n",
      "...             ...             ...     ...\n",
      "9970            534             123     534\n",
      "9971            310             551     551\n",
      "9972            475             530     530\n",
      "9973            212             145     212\n",
      "9974            752             112     752\n",
      "9975            626             432     432\n",
      "9976            332             794     794\n",
      "9977            224             734     224\n",
      "9978            277             356     277\n",
      "9979            418             110     110\n",
      "9980            732             188     732\n",
      "9981             84             617      84\n",
      "9982            429             175     429\n",
      "9983            295             177     177\n",
      "9984            194             336     336\n",
      "9985            119             296     296\n",
      "9986            644             107     107\n",
      "9987            242             231     242\n",
      "9988            358             777     777\n",
      "9989            154             761     154\n",
      "9990            743             347     347\n",
      "9991            650             635     635\n",
      "9992            503             210     503\n",
      "9993             86              64      64\n",
      "9994            194             604     604\n",
      "9995            216             498     498\n",
      "9996            113             404     404\n",
      "9997            493             104     493\n",
      "9998            643             259     643\n",
      "9999            678             531     531\n",
      "\n",
      "[10000 rows x 3 columns]\n"
     ]
    }
   ],
   "source": [
    "print(prediction_df)"
   ]
  },
  {
   "cell_type": "code",
   "execution_count": null,
   "metadata": {},
   "outputs": [],
   "source": []
  }
 ],
 "metadata": {
  "kernelspec": {
   "display_name": "Python 3",
   "language": "python",
   "name": "python3"
  },
  "language_info": {
   "codemirror_mode": {
    "name": "ipython",
    "version": 3
   },
   "file_extension": ".py",
   "mimetype": "text/x-python",
   "name": "python",
   "nbconvert_exporter": "python",
   "pygments_lexer": "ipython3",
   "version": "3.6.5"
  }
 },
 "nbformat": 4,
 "nbformat_minor": 2
}
